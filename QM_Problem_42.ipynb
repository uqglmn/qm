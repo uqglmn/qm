{
 "cells": [
  {
   "cell_type": "markdown",
   "id": "f6a5cea6",
   "metadata": {},
   "source": [
    "## Unit 4 - Quantum Mechanics in 3D"
   ]
  },
  {
   "cell_type": "markdown",
   "id": "3985729a",
   "metadata": {},
   "source": [
    "<a href=\"https://colab.research.google.com/github/uqglmn/qm/blob/main/QM_Problem_42.ipynb\" target=\"_parent\"><img src=\"https://colab.research.google.com/assets/colab-badge.svg\" alt=\"Open In Colab\"/></a>"
   ]
  },
  {
   "cell_type": "markdown",
   "id": "86e90836",
   "metadata": {},
   "source": [
    "### Problem 3.2\n",
    "\n",
    "Use separation of variables in cartesian coordinates to solve the infinite cubical\n",
    "well (or \"particle in a box\"):\n",
    "\n",
    "$$\n",
    "V(x,y,z) = \\begin{cases} 0 & 0 \\le x, y, z \\le a \\\\ \\infty & \\text{otherwise} \\end{cases}\n",
    "$$\n",
    "\n",
    "**(a)** Find the stationary states, and the corresponding energies.\n",
    "\n",
    "**(b)** Call the distinct energies $E_1$, $E_2$, $E_3$, ..., in order of increasing energy. Find $E_1$, $E_2$, $E_3$, $E_4$, $E_5$, and $E_6$. Determine their degeneracies (that is, the number of different states that share the same energy). Comment: In one dimension degenerate bound states do not occur (see Problem 2.44), but in three dimensions they are very common.\n",
    "\n",
    "**(c)** What is the degeneracy of $E_{14}$, and why is this case interesting?"
   ]
  },
  {
   "cell_type": "markdown",
   "id": "d6624670",
   "metadata": {},
   "source": [
    "### Solution"
   ]
  },
  {
   "cell_type": "markdown",
   "id": "e6485227",
   "metadata": {},
   "source": [
    "#### Solution to (a)"
   ]
  },
  {
   "cell_type": "markdown",
   "id": "1f010918",
   "metadata": {},
   "source": [
    "Inside the box the TISE is\n",
    "\n",
    "$$\n",
    "-\\frac{\\hbar^2}{2m} \\bigg( \\frac{\\partial^2 \\psi}{\\partial x^2} + \\frac{\\partial^2 \\psi}{\\partial y^2} + \\frac{\\partial^2 \\psi}{\\partial z^2} \\bigg) = E \\psi\n",
    "$$\n",
    "\n",
    "We look for a separate solution $\\psi(x,y,z) = X(x) Y(y) Z(z)$ giving\n",
    "\n",
    "$$\n",
    "\\frac{1}{X} \\frac{d^2 X}{dx^2} + \\frac{1}{Y} \\frac{d^2 Y}{dy^2} + \\frac{1}{Z} \\frac{d^2 Z}{dz^2} = - \\frac{2m}{\\hbar^2} E\n",
    "$$\n",
    "\n",
    "The three terms on the left are functions of $x$, $y$, and $z$, respectively, so each must be a constant. Call the\n",
    "separation constants $k_x^2$, $k_y^2$, and $k_z^2$. Then\n",
    "\n",
    "$$\n",
    "\\frac{d^2 X}{dx^2} = - k_x^2 X {}\\qquad{}\n",
    "\\frac{d^2 Y}{dy^2} = - k_y^2 Y {}\\qquad{}\n",
    "\\frac{d^2 Z}{dz^2} = - k_z^2 Z {}\\qquad\\text{with}\\qquad{}\n",
    "E = \\frac{\\hbar^2}{2m} (k_x^2 + k_y^2 + k_z^2)\n",
    "$$\n",
    "\n",
    "The solutions are\n",
    "\n",
    "$$\n",
    "X(x) = A_x \\sin(k_x x) + B_x \\sin(k_x x) {}\\qquad{}\n",
    "Y(z) = A_y \\sin(k_y y) + B_y \\sin(k_y y) {}\\qquad{}\n",
    "Z(z) = A_z \\sin(k_z z) + B_z \\sin(k_z z) \n",
    "$$\n",
    "\n",
    "Boundary conditions \n",
    "\n",
    "$$\n",
    "X(0) = Y(0) = Z(0) = 0 {}\\qquad\\text{and}\\qquad{} X(a) = Y(a) = Z(a) = 0\n",
    "$$\n",
    "\n",
    "imply that \n",
    "\n",
    "$$\n",
    "B_x = B_y = B_z = 0 {}\\qquad\\text{and}\\qquad{} k_x = \\frac{n_x \\pi}{a} \\qquad{} k_y = \\frac{n_y \\pi}{a} \\qquad{} k_z = \\frac{n_z \\pi}{a}\n",
    "$$\n",
    "\n",
    "with $n_x, n_y, n_z = 1, 2, 3, \\ldots$ Normalising each factor ($X$, $Y$, and $Z$) individually gives $a_x = a_y = a_z = \\sqrt{2/a}$.\n",
    "\n",
    "Therefore, the stationary solutions are\n",
    "\n",
    "$$\n",
    "\\psi_{n_x, n_y, n_z} (x, y, z) = \\bigg( \\frac{2}{a} \\bigg)^{3/2} \n",
    "\\sin\\bigg(\\frac{n_x \\pi x}{a}\\bigg) \n",
    "\\sin\\bigg(\\frac{n_y \\pi y}{a}\\bigg) \n",
    "\\sin\\bigg(\\frac{n_z \\pi z}{a}\\bigg)\n",
    "{}\\qquad\\text{with}\\qquad{}\n",
    "E = \\frac{\\hbar^2 \\pi^2}{2ma^2} \\Big( n_x^2 + n_y^2 + n_z^2 \\Big)\n",
    "$$"
   ]
  },
  {
   "cell_type": "markdown",
   "id": "3b6ee45a",
   "metadata": {},
   "source": [
    "#### Solution to (b)"
   ]
  },
  {
   "cell_type": "code",
   "execution_count": 1,
   "id": "5e971d90",
   "metadata": {},
   "outputs": [],
   "source": [
    "import pandas as pd"
   ]
  },
  {
   "cell_type": "code",
   "execution_count": 2,
   "id": "59416e70",
   "metadata": {},
   "outputs": [],
   "source": [
    "n_max = 5  # max value of nx, ny, nz\n",
    "\n",
    "# create a list of all values of [nx, ny, nz]\n",
    "A = []\n",
    "for nx in range(1,n_max+1):\n",
    "    for ny in range(1,n_max+1):\n",
    "        for nz in range(1,n_max+1):\n",
    "            A.append([nx,ny,nz])\n",
    "\n",
    "# create a pandas daframe            \n",
    "df = pd.DataFrame(A, columns=[\"nx\",\"ny\",\"nz\"])\n",
    "\n",
    "# compute energy (as multiple of (\\hbar^2 \\pi^2) / (2 m a^2) )\n",
    "df[\"energy\"] = df[\"nx\"]**2 + df[\"ny\"]**2 + df[\"nz\"]**2\n",
    "\n",
    "# sort values by energy\n",
    "df.sort_values('energy', inplace=True)\n",
    "\n",
    "# reset index\n",
    "df.reset_index(drop=True, inplace=True)"
   ]
  },
  {
   "cell_type": "code",
   "execution_count": 3,
   "id": "22783c99",
   "metadata": {},
   "outputs": [],
   "source": [
    "# compute energy levels\n",
    "df[\"level\"] = 1\n",
    "for i in range(1,df.shape[0]):\n",
    "    df.loc[i,\"level\"] = df[\"level\"][i-1]\n",
    "    df.loc[i,\"level\"] += int(df[\"energy\"][i] > df[\"energy\"][i-1])"
   ]
  },
  {
   "cell_type": "code",
   "execution_count": 4,
   "id": "ba0c9c54",
   "metadata": {},
   "outputs": [
    {
     "data": {
      "text/html": [
       "<div>\n",
       "<style scoped>\n",
       "    .dataframe tbody tr th:only-of-type {\n",
       "        vertical-align: middle;\n",
       "    }\n",
       "\n",
       "    .dataframe tbody tr th {\n",
       "        vertical-align: top;\n",
       "    }\n",
       "\n",
       "    .dataframe thead th {\n",
       "        text-align: right;\n",
       "    }\n",
       "</style>\n",
       "<table border=\"1\" class=\"dataframe\">\n",
       "  <thead>\n",
       "    <tr style=\"text-align: right;\">\n",
       "      <th></th>\n",
       "      <th>nx</th>\n",
       "      <th>ny</th>\n",
       "      <th>nz</th>\n",
       "      <th>energy</th>\n",
       "      <th>level</th>\n",
       "    </tr>\n",
       "  </thead>\n",
       "  <tbody>\n",
       "    <tr>\n",
       "      <th>0</th>\n",
       "      <td>1</td>\n",
       "      <td>1</td>\n",
       "      <td>1</td>\n",
       "      <td>3</td>\n",
       "      <td>1</td>\n",
       "    </tr>\n",
       "    <tr>\n",
       "      <th>1</th>\n",
       "      <td>1</td>\n",
       "      <td>1</td>\n",
       "      <td>2</td>\n",
       "      <td>6</td>\n",
       "      <td>2</td>\n",
       "    </tr>\n",
       "    <tr>\n",
       "      <th>2</th>\n",
       "      <td>2</td>\n",
       "      <td>1</td>\n",
       "      <td>1</td>\n",
       "      <td>6</td>\n",
       "      <td>2</td>\n",
       "    </tr>\n",
       "    <tr>\n",
       "      <th>3</th>\n",
       "      <td>1</td>\n",
       "      <td>2</td>\n",
       "      <td>1</td>\n",
       "      <td>6</td>\n",
       "      <td>2</td>\n",
       "    </tr>\n",
       "    <tr>\n",
       "      <th>4</th>\n",
       "      <td>2</td>\n",
       "      <td>2</td>\n",
       "      <td>1</td>\n",
       "      <td>9</td>\n",
       "      <td>3</td>\n",
       "    </tr>\n",
       "    <tr>\n",
       "      <th>5</th>\n",
       "      <td>2</td>\n",
       "      <td>1</td>\n",
       "      <td>2</td>\n",
       "      <td>9</td>\n",
       "      <td>3</td>\n",
       "    </tr>\n",
       "  </tbody>\n",
       "</table>\n",
       "</div>"
      ],
      "text/plain": [
       "   nx  ny  nz  energy  level\n",
       "0   1   1   1       3      1\n",
       "1   1   1   2       6      2\n",
       "2   2   1   1       6      2\n",
       "3   1   2   1       6      2\n",
       "4   2   2   1       9      3\n",
       "5   2   1   2       9      3"
      ]
     },
     "execution_count": 4,
     "metadata": {},
     "output_type": "execute_result"
    }
   ],
   "source": [
    "# inspect the resulting dataframe\n",
    "df.iloc[:6]"
   ]
  },
  {
   "cell_type": "code",
   "execution_count": 5,
   "id": "af2e3924",
   "metadata": {},
   "outputs": [
    {
     "name": "stdout",
     "output_type": "stream",
     "text": [
      "\n",
      "Energy level E_1. Degeneracy d(1)=1\n",
      "\n",
      "   nx  ny  nz  energy\n",
      "1   1   1   1       3\n",
      "\n",
      "Energy level E_2. Degeneracy d(2)=3\n",
      "\n",
      "   nx  ny  nz  energy\n",
      "1   1   1   2       6\n",
      "2   1   2   1       6\n",
      "3   2   1   1       6\n",
      "\n",
      "Energy level E_3. Degeneracy d(3)=3\n",
      "\n",
      "   nx  ny  nz  energy\n",
      "1   1   2   2       9\n",
      "2   2   1   2       9\n",
      "3   2   2   1       9\n",
      "\n",
      "Energy level E_4. Degeneracy d(4)=3\n",
      "\n",
      "   nx  ny  nz  energy\n",
      "1   1   1   3      11\n",
      "2   1   3   1      11\n",
      "3   3   1   1      11\n",
      "\n",
      "Energy level E_5. Degeneracy d(5)=1\n",
      "\n",
      "   nx  ny  nz  energy\n",
      "1   2   2   2      12\n",
      "\n",
      "Energy level E_6. Degeneracy d(6)=6\n",
      "\n",
      "   nx  ny  nz  energy\n",
      "1   1   2   3      14\n",
      "2   1   3   2      14\n",
      "3   2   1   3      14\n",
      "4   2   3   1      14\n",
      "5   3   1   2      14\n",
      "6   3   2   1      14\n"
     ]
    }
   ],
   "source": [
    "for i in range(1,6+1):\n",
    "    # select configurations by energy level \n",
    "    df1 = df.loc[df['level'] == i].copy()\n",
    "    # sort\n",
    "    df1.sort_values([\"nx\",\"ny\",\"nz\"], inplace=True)\n",
    "    df1.reset_index(drop=True, inplace=True)\n",
    "    df1.index = df1.index + 1\n",
    "    \n",
    "    # print the answer\n",
    "    print(f\"\\nEnergy level E_{i}. Degeneracy d({i})={df1.shape[0]}\\n\")\n",
    "    print(df1.iloc[:,0:4])"
   ]
  },
  {
   "cell_type": "markdown",
   "id": "30fed9d5",
   "metadata": {},
   "source": [
    "#### Solution to (c)"
   ]
  },
  {
   "cell_type": "code",
   "execution_count": 6,
   "id": "da31d878",
   "metadata": {},
   "outputs": [
    {
     "name": "stdout",
     "output_type": "stream",
     "text": [
      "\n",
      "Energy level E_14. Degeneracy d(14)=4\n",
      "\n",
      "   nx  ny  nz  energy\n",
      "1   5   1   1      27\n",
      "2   3   3   3      27\n",
      "3   1   5   1      27\n",
      "4   1   1   5      27\n"
     ]
    }
   ],
   "source": [
    "i = 14 # energy level E_14\n",
    "df1 = df.loc[df['level'] == i]\n",
    "df1.reset_index(drop=True, inplace=True)\n",
    "df1.index = df1.index + 1\n",
    "print(f\"\\nEnergy level E_{i}. Degeneracy d({i})={df1.shape[0]}\\n\")\n",
    "print(df1.iloc[:,0:4])"
   ]
  },
  {
   "cell_type": "markdown",
   "id": "5881cf5f",
   "metadata": {},
   "source": [
    "### Modification"
   ]
  },
  {
   "cell_type": "markdown",
   "id": "7ce1d096",
   "metadata": {},
   "source": [
    "Consider a massive particle in a rectangular box potential:\n",
    "\n",
    "$$\n",
    "V(x,y,z) = \\begin{cases} 0 & 0 \\le x \\le a ,\\; 0 \\le y \\le 2 a,\\; 0 \\le z \\le 3 a \\\\ \\infty & \\text{otherwise} \\end{cases}\n",
    "$$\n",
    "\n",
    "The stationary solutions are\n",
    "\n",
    "$$\n",
    "\\psi_{n_x, n_y, n_z} (x, y, z) = \\sqrt{\\frac{2}{a}}\\sqrt{\\frac{2}{2a}} \\sqrt{\\frac{2}{3a}} \n",
    "\\sin\\bigg(\\frac{n_x \\pi x}{a}\\bigg) \n",
    "\\sin\\bigg(\\frac{n_y \\pi y}{2a}\\bigg) \n",
    "\\sin\\bigg(\\frac{n_z \\pi z}{3a}\\bigg)\n",
    "{}\\qquad\\text{with}\\qquad{}\n",
    "E = \\frac{\\hbar^2 \\pi^2}{2ma^2} \\Big( \\frac{n_x^2}{1} + \\frac{n_y^2}{2^2} + \\frac{n_z^2}{3^2} \\Big)\n",
    "$$\n",
    "\n",
    "Find first five degenerate energy levels and their degeneracies."
   ]
  },
  {
   "cell_type": "code",
   "execution_count": 7,
   "id": "45676c09",
   "metadata": {},
   "outputs": [],
   "source": [
    "import numpy as np\n",
    "\n",
    "n_max = 10  # max value of nx, ny, nz\n",
    "\n",
    "# create a list of all values of [nx, ny, nz]\n",
    "A = []\n",
    "for nx in range(1,n_max+1):\n",
    "    for ny in range(1,n_max+1):\n",
    "        for nz in range(1,n_max+1):\n",
    "            A.append([nx,ny,nz])\n",
    "\n",
    "# create a pandas daframe\n",
    "df = pd.DataFrame(A, columns=[\"nx\",\"ny\",\"nz\"])\n",
    "\n",
    "# compute energy (as multiple of (\\hbar^2 \\pi^2) / (2 m a^2) )\n",
    "df[\"energy\"] = np.round(df[\"nx\"]**2/1 + df[\"ny\"]**2/(2**2) + df[\"nz\"]**2/(3**2), 3)\n",
    "\n",
    "# sort values by energy\n",
    "df.sort_values('energy', inplace=True)\n",
    "\n",
    "# reset index\n",
    "df.reset_index(drop=True, inplace=True)"
   ]
  },
  {
   "cell_type": "code",
   "execution_count": 8,
   "id": "5d65aca8",
   "metadata": {},
   "outputs": [],
   "source": [
    "# compute energy levels\n",
    "df[\"level\"] = 1\n",
    "for i in range(1,df.shape[0]):\n",
    "    df.loc[i,\"level\"] = df[\"level\"][i-1]\n",
    "    df.loc[i,\"level\"] += int(df[\"energy\"][i] > df[\"energy\"][i-1])"
   ]
  },
  {
   "cell_type": "code",
   "execution_count": 9,
   "id": "6696149b",
   "metadata": {},
   "outputs": [
    {
     "name": "stdout",
     "output_type": "stream",
     "text": [
      "\n",
      "Energy level E_17. Degeneracy d(17)=2\n",
      "\n",
      "   nx  ny  nz  energy\n",
      "1   1   4   1   5.111\n",
      "2   2   2   1   5.111\n",
      "\n",
      "Energy level E_18. Degeneracy d(18)=2\n",
      "\n",
      "   nx  ny  nz  energy\n",
      "1   1   1   6    5.25\n",
      "2   2   1   3    5.25\n",
      "\n",
      "Energy level E_19. Degeneracy d(19)=2\n",
      "\n",
      "   nx  ny  nz  energy\n",
      "1   1   4   2   5.444\n",
      "2   2   2   2   5.444\n",
      "\n",
      "Energy level E_20. Degeneracy d(20)=3\n",
      "\n",
      "   nx  ny  nz  energy\n",
      "1   1   2   6     6.0\n",
      "2   1   4   3     6.0\n",
      "3   2   2   3     6.0\n",
      "\n",
      "Energy level E_21. Degeneracy d(21)=2\n",
      "\n",
      "   nx  ny  nz  energy\n",
      "1   1   3   5   6.028\n",
      "2   2   1   4   6.028\n"
     ]
    }
   ],
   "source": [
    "i, j = 0, 0\n",
    "\n",
    "while j < 5:\n",
    "    i += 1\n",
    "    # select configurations by energy level \n",
    "    df1 = df.loc[df['level'] == i].copy()\n",
    "    \n",
    "    if df1.shape[0] > 1:\n",
    "        j += 1\n",
    "        # sort\n",
    "        df1.sort_values([\"nx\",\"ny\",\"nz\"], inplace=True)\n",
    "        df1.reset_index(drop=True, inplace=True)\n",
    "        df1.index = df1.index + 1\n",
    "\n",
    "        # print the answer\n",
    "        print(f\"\\nEnergy level E_{i}. Degeneracy d({i})={df1.shape[0]}\\n\")\n",
    "        print(df1.iloc[:,0:4])"
   ]
  },
  {
   "cell_type": "markdown",
   "id": "972a86e9",
   "metadata": {},
   "source": [
    "---"
   ]
  }
 ],
 "metadata": {
  "kernelspec": {
   "display_name": "Python 3 (ipykernel)",
   "language": "python",
   "name": "python3"
  },
  "language_info": {
   "codemirror_mode": {
    "name": "ipython",
    "version": 3
   },
   "file_extension": ".py",
   "mimetype": "text/x-python",
   "name": "python",
   "nbconvert_exporter": "python",
   "pygments_lexer": "ipython3",
   "version": "3.9.13"
  },
  "latex_envs": {
   "LaTeX_envs_menu_present": true,
   "autoclose": false,
   "autocomplete": true,
   "bibliofile": "biblio.bib",
   "cite_by": "apalike",
   "current_citInitial": 1,
   "eqLabelWithNumbers": true,
   "eqNumInitial": 1,
   "hotkeys": {
    "equation": "Ctrl-E",
    "itemize": "Ctrl-I"
   },
   "labels_anchors": false,
   "latex_user_defs": false,
   "report_style_numbering": false,
   "user_envs_cfg": false
  }
 },
 "nbformat": 4,
 "nbformat_minor": 5
}
