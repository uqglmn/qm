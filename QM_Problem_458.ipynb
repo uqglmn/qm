{
 "cells": [
  {
   "cell_type": "markdown",
   "id": "8cea873d",
   "metadata": {},
   "source": [
    "## Unit 4 - Quantum Mechanics in 3D"
   ]
  },
  {
   "cell_type": "markdown",
   "id": "1f35e2b0",
   "metadata": {},
   "source": [
    "<a href=\"https://colab.research.google.com/github/uqglmn/qm/blob/main/QM_Problem_458.ipynb\" target=\"_parent\"><img src=\"https://colab.research.google.com/assets/colab-badge.svg\" alt=\"Open In Colab\"/></a>"
   ]
  },
  {
   "cell_type": "markdown",
   "id": "f32cfe0a",
   "metadata": {},
   "source": [
    "### Problem 4.58"
   ]
  },
  {
   "cell_type": "markdown",
   "id": "82ea78c4",
   "metadata": {},
   "source": [
    "An electron is in the spin state\n",
    "$$\n",
    "\\chi = A \\begin{pmatrix} 1-2i \\\\ 2\\end{pmatrix}\n",
    "$$\n",
    "\n",
    "Assume that $A\\in\\mathbb{R}$.\n",
    "\n",
    "**(a)** Determine the constant $A$ by normalising $\\chi$.\n",
    "\n",
    "**(b)** If you measured $S_z$ on this electron, what values could you get, and what is the\n",
    "probability of each? What is the expectation value of $S_z$?\n",
    "\n",
    "**(c)** If you measured $S_x$ on this electron, what values could you get, and what is the\n",
    "probability of each? What is the expectation value of $S_x$?\n",
    "\n",
    "**(d)** If you measured $S_y$ on this electron, what values could you get, and what is the\n",
    "probability of each? What is the expectation value of $S_y$?"
   ]
  },
  {
   "cell_type": "markdown",
   "id": "c3c6c996",
   "metadata": {},
   "source": [
    "### Solution"
   ]
  },
  {
   "cell_type": "markdown",
   "id": "669c1f74",
   "metadata": {},
   "source": [
    "#### Solution to (a)"
   ]
  },
  {
   "cell_type": "markdown",
   "id": "561096ea",
   "metadata": {},
   "source": [
    "Normalisation condition is \n",
    "$$\n",
    "1 = \\chi^\\dagger \\chi = A^2 \\begin{pmatrix} 1+ 2i & 2 \\end{pmatrix}  \\begin{pmatrix} 1- 2i \\\\ 2 \\end{pmatrix} = A^2 (1+4+4) = 9 A^2\n",
    "$$\n",
    "Thus $A = \\pm1/3$.\n",
    "\n",
    "Let's repeat with SymPy:"
   ]
  },
  {
   "cell_type": "code",
   "execution_count": 1,
   "id": "59e9da81",
   "metadata": {},
   "outputs": [],
   "source": [
    "import sympy as sym\n",
    "from sympy.physics.quantum.dagger import Dagger\n",
    "sym.init_printing(use_unicode=True)"
   ]
  },
  {
   "cell_type": "code",
   "execution_count": 2,
   "id": "32b2fe33",
   "metadata": {},
   "outputs": [],
   "source": [
    "A   = sym.symbols(\"A\", real=True)      # normalisation constant\n",
    "chi = A*sym.Matrix([[1-2*sym.I],[2]])  # spin state"
   ]
  },
  {
   "cell_type": "code",
   "execution_count": 3,
   "id": "b77cda5c",
   "metadata": {},
   "outputs": [
    {
     "data": {
      "image/png": "[encoded data removed]",
      "text/latex": [
       "$\\displaystyle \\left( \\left[\\begin{matrix}A \\left(1 + 2 i\\right) & 2 A\\end{matrix}\\right], \\  \\left[\\begin{matrix}A \\left(1 - 2 i\\right)\\\\2 A\\end{matrix}\\right]\\right)$"
      ],
      "text/plain": [
       "⎛                    ⎡A⋅(1 - 2⋅ⅈ)⎤⎞\n",
       "⎜[A⋅(1 + 2⋅ⅈ)  2⋅A], ⎢           ⎥⎟\n",
       "⎝                    ⎣    2⋅A    ⎦⎠"
      ]
     },
     "execution_count": 3,
     "metadata": {},
     "output_type": "execute_result"
    }
   ],
   "source": [
    "(Dagger(chi), chi)  # let's check how the Dagger works"
   ]
  },
  {
   "cell_type": "code",
   "execution_count": 4,
   "id": "f8e5d4b3",
   "metadata": {},
   "outputs": [
    {
     "data": {
      "image/png": "[encoded data removed]",
      "text/latex": [
       "$\\displaystyle \\left[ - \\frac{1}{3}, \\  \\frac{1}{3}\\right]$"
      ],
      "text/plain": [
       "[-1/3, 1/3]"
      ]
     },
     "execution_count": 4,
     "metadata": {},
     "output_type": "execute_result"
    }
   ],
   "source": [
    "sym.solve(Dagger(chi).dot(chi)-1, A)   # solve the equation Dagger(chi).chi = 1) for A: "
   ]
  },
  {
   "cell_type": "markdown",
   "id": "723cea6f",
   "metadata": {},
   "source": [
    "#### Solution to (b)"
   ]
  },
  {
   "cell_type": "markdown",
   "id": "67450624",
   "metadata": {},
   "source": [
    "Without loss of generality, we choose $A=1/3$.\n",
    "\n",
    "The spin operator $S_z = \\dfrac\\hbar2\\begin{pmatrix} 1 & 0 \\\\ 0 & -1 \\end{pmatrix} $ has eigenvectors\n",
    "$\\chi_-^{(z)} = \\begin{pmatrix} 0 \\\\ 1 \\end{pmatrix}$ and $\\chi_+^{(z)} = \\begin{pmatrix} 1 \\\\ 0 \\end{pmatrix}$\n",
    "with eigenvalues $-\\hbar/2$ and $+\\hbar/2$, respectively. \n",
    "\n",
    "Measuring $S_z$ on the state $\\chi$ may yield $-\\hbar/2$ with probability\n",
    "\n",
    "$$\n",
    "P_1 = |c_1|^2 = \\big|(\\chi_-^{(z)})^\\dagger \\chi\\big|^2 = \\Bigg|\\begin{pmatrix} 0 & 1 \\end{pmatrix} \\cdot \\frac13\\begin{pmatrix} 1-2i \\\\ 2\\end{pmatrix} \\Bigg|^2 = \\bigg| \\frac{2}{3}\\bigg|^2 = \\frac{4}{9}\n",
    "$$\n",
    "\n",
    "and $+\\hbar/2$ with probability\n",
    "\n",
    "$$\n",
    "P_2 = |c_2|^2 = \\big|(\\chi_+^{(z)})^\\dagger \\chi\\big|^2 = \\Bigg|\\begin{pmatrix} 1 & 0 \\end{pmatrix} \\cdot \\frac13\\begin{pmatrix} 1-2i \\\\ 2\\end{pmatrix} \\Bigg|^2 = \\bigg| \\frac{1-2i}{3}\\bigg|^2 = \\frac{5}{9}\n",
    "$$\n",
    "\n",
    "(Sanity check: $P_1 + P_2 = 4/9 + 5/9 = 1$)\n",
    "\n",
    "The expectation value of $S_z$ on $\\chi$ is\n",
    "$$\n",
    "\\langle S_z \\rangle = \\chi^\\dagger S_z \\chi = \\frac13 \\begin{pmatrix} 1+ 2i & 2 \\end{pmatrix} \\cdot \\frac\\hbar2\\begin{pmatrix} 1 & 0 \\\\ 0 & -1 \\end{pmatrix} \\cdot \\frac13 \\begin{pmatrix} 1- 2i \\\\ 2 \\end{pmatrix} = \\frac{\\hbar}{18}\n",
    "$$\n",
    "\n",
    "Equivalently\n",
    "$$\n",
    "\\langle S_z \\rangle = |c_1|^2 \\cdot (-\\hbar/2) + |c_2|^2 \\cdot (\\hbar/2) = \\frac{\\hbar}{18}\n",
    "$$\n",
    "\n",
    "Let's repeat with SymPy:"
   ]
  },
  {
   "cell_type": "code",
   "execution_count": 5,
   "id": "54c41521",
   "metadata": {},
   "outputs": [
    {
     "data": {
      "image/png": "[encoded data removed]",
      "text/latex": [
       "$\\displaystyle \\left[\\begin{matrix}\\frac{1}{3} - \\frac{2 i}{3}\\\\\\frac{2}{3}\\end{matrix}\\right]$"
      ],
      "text/plain": [
       "⎡1   2⋅ⅈ⎤\n",
       "⎢─ - ───⎥\n",
       "⎢3    3 ⎥\n",
       "⎢       ⎥\n",
       "⎣  2/3  ⎦"
      ]
     },
     "execution_count": 5,
     "metadata": {},
     "output_type": "execute_result"
    }
   ],
   "source": [
    "chi = sym.Rational(1,3)*sym.Matrix([[1-2*sym.I],[2]])  # spin state with A = 1/3\n",
    "chi"
   ]
  },
  {
   "cell_type": "code",
   "execution_count": 6,
   "id": "886a0940",
   "metadata": {},
   "outputs": [
    {
     "data": {
      "image/png": "[encoded data removed]",
      "text/latex": [
       "$\\displaystyle \\left[\\begin{matrix}\\frac{\\hbar}{2} & 0\\\\0 & - \\frac{\\hbar}{2}\\end{matrix}\\right]$"
      ],
      "text/plain": [
       "⎡h̅     ⎤\n",
       "⎢─   0 ⎥\n",
       "⎢2     ⎥\n",
       "⎢      ⎥\n",
       "⎢   -h̅ ⎥\n",
       "⎢0  ───⎥\n",
       "⎣    2 ⎦"
      ]
     },
     "execution_count": 6,
     "metadata": {},
     "output_type": "execute_result"
    }
   ],
   "source": [
    "hbar = sym.symbols(\"hbar\", real=True)   # Planck constant \n",
    "Sz = hbar/2*sym.Matrix([[1,0],[0,-1]])  # spin operator S_z\n",
    "Sz"
   ]
  },
  {
   "cell_type": "code",
   "execution_count": 7,
   "id": "dd9910f4",
   "metadata": {},
   "outputs": [
    {
     "data": {
      "image/png": "[encoded data removed]",
      "text/latex": [
       "$\\displaystyle \\left[ \\left( - \\frac{\\hbar}{2}, \\  1, \\  \\left[ \\left[\\begin{matrix}0\\\\1\\end{matrix}\\right]\\right]\\right), \\  \\left( \\frac{\\hbar}{2}, \\  1, \\  \\left[ \\left[\\begin{matrix}1\\\\0\\end{matrix}\\right]\\right]\\right)\\right]$"
      ],
      "text/plain": [
       "⎡⎛-h̅      ⎡⎡0⎤⎤⎞  ⎛h̅     ⎡⎡1⎤⎤⎞⎤\n",
       "⎢⎜───, 1, ⎢⎢ ⎥⎥⎟, ⎜─, 1, ⎢⎢ ⎥⎥⎟⎥\n",
       "⎣⎝ 2      ⎣⎣1⎦⎦⎠  ⎝2     ⎣⎣0⎦⎦⎠⎦"
      ]
     },
     "execution_count": 7,
     "metadata": {},
     "output_type": "execute_result"
    }
   ],
   "source": [
    "Sz.eigenvects()  # eigenvalues, their multiplicities and eigenvectors"
   ]
  },
  {
   "cell_type": "code",
   "execution_count": 8,
   "id": "2cc779f6",
   "metadata": {},
   "outputs": [
    {
     "data": {
      "image/png": "[encoded data removed]",
      "text/latex": [
       "$\\displaystyle \\left( \\left[\\begin{matrix}0\\\\1\\end{matrix}\\right], \\  \\left[\\begin{matrix}1\\\\0\\end{matrix}\\right]\\right)$"
      ],
      "text/plain": [
       "⎛⎡0⎤  ⎡1⎤⎞\n",
       "⎜⎢ ⎥, ⎢ ⎥⎟\n",
       "⎝⎣1⎦  ⎣0⎦⎠"
      ]
     },
     "execution_count": 8,
     "metadata": {},
     "output_type": "execute_result"
    }
   ],
   "source": [
    "chi_z_minus = Sz.eigenvects()[0][2][0]  # select the first eigenvector\n",
    "chi_z_plus  = Sz.eigenvects()[1][2][0]  # select the second eigenvector\n",
    "\n",
    "(chi_z_minus, chi_z_plus)  # check eigenvectors - notice that they are normalised to 1"
   ]
  },
  {
   "cell_type": "code",
   "execution_count": 9,
   "id": "485e12b5",
   "metadata": {},
   "outputs": [
    {
     "name": "stdout",
     "output_type": "stream",
     "text": [
      "The probability to measure -ℏ/2 is:\n"
     ]
    },
    {
     "data": {
      "image/png": "[encoded data removed]",
      "text/latex": [
       "$\\displaystyle \\frac{4}{9}$"
      ],
      "text/plain": [
       "4/9"
      ]
     },
     "execution_count": 9,
     "metadata": {},
     "output_type": "execute_result"
    }
   ],
   "source": [
    "print(\"The probability to measure -ℏ/2 is:\")\n",
    "c1 = Dagger(chi_z_minus).dot(chi)\n",
    "sym.Abs(c1)**2"
   ]
  },
  {
   "cell_type": "code",
   "execution_count": 10,
   "id": "560762ba",
   "metadata": {},
   "outputs": [
    {
     "name": "stdout",
     "output_type": "stream",
     "text": [
      "The probability to measure +ℏ/2 is:\n"
     ]
    },
    {
     "data": {
      "image/png": "[encoded data removed]",
      "text/latex": [
       "$\\displaystyle \\frac{5}{9}$"
      ],
      "text/plain": [
       "5/9"
      ]
     },
     "execution_count": 10,
     "metadata": {},
     "output_type": "execute_result"
    }
   ],
   "source": [
    "print(\"The probability to measure +ℏ/2 is:\")\n",
    "c2 = Dagger(chi_z_plus).dot(chi)\n",
    "sym.Abs(c2)**2"
   ]
  },
  {
   "cell_type": "code",
   "execution_count": 11,
   "id": "483c07ab",
   "metadata": {},
   "outputs": [
    {
     "name": "stdout",
     "output_type": "stream",
     "text": [
      "The expectation value of S_z is:\n"
     ]
    },
    {
     "data": {
      "image/png": "[encoded data removed]",
      "text/latex": [
       "$\\displaystyle \\frac{\\hbar}{18}$"
      ],
      "text/plain": [
       "h̅\n",
       "──\n",
       "18"
      ]
     },
     "execution_count": 11,
     "metadata": {},
     "output_type": "execute_result"
    }
   ],
   "source": [
    "print(\"The expectation value of S_z is:\")\n",
    "Dagger(chi).dot(Sz @ chi).simplify()"
   ]
  },
  {
   "cell_type": "markdown",
   "id": "098558d6",
   "metadata": {},
   "source": [
    "#### Solution to (c)"
   ]
  },
  {
   "cell_type": "markdown",
   "id": "dd41f54b",
   "metadata": {},
   "source": [
    "The computations are essentially the same, thus we do everything with SymPy only:"
   ]
  },
  {
   "cell_type": "code",
   "execution_count": 12,
   "id": "6b2f8b77",
   "metadata": {},
   "outputs": [
    {
     "data": {
      "image/png": "[encoded data removed]",
      "text/latex": [
       "$\\displaystyle \\left[\\begin{matrix}0 & \\frac{\\hbar}{2}\\\\\\frac{\\hbar}{2} & 0\\end{matrix}\\right]$"
      ],
      "text/plain": [
       "⎡   h̅⎤\n",
       "⎢0  ─⎥\n",
       "⎢   2⎥\n",
       "⎢    ⎥\n",
       "⎢h̅   ⎥\n",
       "⎢─  0⎥\n",
       "⎣2   ⎦"
      ]
     },
     "execution_count": 12,
     "metadata": {},
     "output_type": "execute_result"
    }
   ],
   "source": [
    "Sx = hbar/2*sym.Matrix([[0,1],[1,0]])  # spin operator S_x\n",
    "Sx"
   ]
  },
  {
   "cell_type": "code",
   "execution_count": 13,
   "id": "52d09096",
   "metadata": {},
   "outputs": [
    {
     "data": {
      "image/png": "[encoded data removed]",
      "text/latex": [
       "$\\displaystyle \\left[ \\left( - \\frac{\\hbar}{2}, \\  1, \\  \\left[ \\left[\\begin{matrix}-1\\\\1\\end{matrix}\\right]\\right]\\right), \\  \\left( \\frac{\\hbar}{2}, \\  1, \\  \\left[ \\left[\\begin{matrix}1\\\\1\\end{matrix}\\right]\\right]\\right)\\right]$"
      ],
      "text/plain": [
       "⎡⎛-h̅      ⎡⎡-1⎤⎤⎞  ⎛h̅     ⎡⎡1⎤⎤⎞⎤\n",
       "⎢⎜───, 1, ⎢⎢  ⎥⎥⎟, ⎜─, 1, ⎢⎢ ⎥⎥⎟⎥\n",
       "⎣⎝ 2      ⎣⎣1 ⎦⎦⎠  ⎝2     ⎣⎣1⎦⎦⎠⎦"
      ]
     },
     "execution_count": 13,
     "metadata": {},
     "output_type": "execute_result"
    }
   ],
   "source": [
    "Sx.eigenvects()  # eigenvalues, their multiplicities and eigenvectors"
   ]
  },
  {
   "cell_type": "code",
   "execution_count": 14,
   "id": "b111a2b8",
   "metadata": {},
   "outputs": [],
   "source": [
    "B = 1/sym.sqrt(2)                           # normalisation constant for eigenvectors\n",
    "chi_x_minus = B * Sx.eigenvects()[0][2][0]  # select the first eigenvector\n",
    "chi_x_plus  = B * Sx.eigenvects()[1][2][0]  # select the second eigenvector"
   ]
  },
  {
   "cell_type": "code",
   "execution_count": 15,
   "id": "56c6785a",
   "metadata": {},
   "outputs": [
    {
     "name": "stdout",
     "output_type": "stream",
     "text": [
      "The probability to measure -ℏ/2 is:\n"
     ]
    },
    {
     "data": {
      "image/png": "[encoded data removed]",
      "text/latex": [
       "$\\displaystyle \\frac{5}{18}$"
      ],
      "text/plain": [
       "5/18"
      ]
     },
     "execution_count": 15,
     "metadata": {},
     "output_type": "execute_result"
    }
   ],
   "source": [
    "print(\"The probability to measure -ℏ/2 is:\")\n",
    "c1 = Dagger(chi_x_minus).dot(chi)\n",
    "sym.Abs(c1)**2"
   ]
  },
  {
   "cell_type": "code",
   "execution_count": 16,
   "id": "2c9913f5",
   "metadata": {},
   "outputs": [
    {
     "name": "stdout",
     "output_type": "stream",
     "text": [
      "The probability to measure +ℏ/2 is:\n"
     ]
    },
    {
     "data": {
      "image/png": "[encoded data removed]",
      "text/latex": [
       "$\\displaystyle \\frac{13}{18}$"
      ],
      "text/plain": [
       "13\n",
       "──\n",
       "18"
      ]
     },
     "execution_count": 16,
     "metadata": {},
     "output_type": "execute_result"
    }
   ],
   "source": [
    "print(\"The probability to measure +ℏ/2 is:\")\n",
    "c2 = Dagger(chi_x_plus).dot(chi)\n",
    "sym.Abs(c2)**2"
   ]
  },
  {
   "cell_type": "code",
   "execution_count": 17,
   "id": "99dcd998",
   "metadata": {
    "scrolled": true
   },
   "outputs": [
    {
     "name": "stdout",
     "output_type": "stream",
     "text": [
      "The expectation value of S_x is:\n"
     ]
    },
    {
     "data": {
      "image/png": "[encoded data removed]",
      "text/latex": [
       "$\\displaystyle \\frac{2 \\hbar}{9}$"
      ],
      "text/plain": [
       "2⋅h̅\n",
       "───\n",
       " 9 "
      ]
     },
     "execution_count": 17,
     "metadata": {},
     "output_type": "execute_result"
    }
   ],
   "source": [
    "print(\"The expectation value of S_x is:\")\n",
    "Dagger(chi).dot(Sx @ chi).simplify()"
   ]
  },
  {
   "cell_type": "markdown",
   "id": "7fd62a33",
   "metadata": {},
   "source": [
    "#### Solution to (d)"
   ]
  },
  {
   "cell_type": "markdown",
   "id": "29420082",
   "metadata": {},
   "source": [
    "Repeat the same once again:"
   ]
  },
  {
   "cell_type": "code",
   "execution_count": 18,
   "id": "f53f31f5",
   "metadata": {},
   "outputs": [
    {
     "data": {
      "image/png": "[encoded data removed]",
      "text/latex": [
       "$\\displaystyle \\left[\\begin{matrix}0 & - \\frac{i \\hbar}{2}\\\\\\frac{i \\hbar}{2} & 0\\end{matrix}\\right]$"
      ],
      "text/plain": [
       "⎡     -ⅈ⋅h̅ ⎤\n",
       "⎢ 0   ─────⎥\n",
       "⎢       2  ⎥\n",
       "⎢          ⎥\n",
       "⎢ⅈ⋅h̅       ⎥\n",
       "⎢───    0  ⎥\n",
       "⎣ 2        ⎦"
      ]
     },
     "execution_count": 18,
     "metadata": {},
     "output_type": "execute_result"
    }
   ],
   "source": [
    "Sy = hbar/2*sym.Matrix([[0,-sym.I],[sym.I,0]])  # spin operator S_y\n",
    "Sy"
   ]
  },
  {
   "cell_type": "code",
   "execution_count": 19,
   "id": "5b563d4b",
   "metadata": {},
   "outputs": [
    {
     "data": {
      "image/png": "[encoded data removed]",
      "text/latex": [
       "$\\displaystyle \\left[ \\left( - \\frac{\\hbar}{2}, \\  1, \\  \\left[ \\left[\\begin{matrix}i\\\\1\\end{matrix}\\right]\\right]\\right), \\  \\left( \\frac{\\hbar}{2}, \\  1, \\  \\left[ \\left[\\begin{matrix}- i\\\\1\\end{matrix}\\right]\\right]\\right)\\right]$"
      ],
      "text/plain": [
       "⎡⎛-h̅      ⎡⎡ⅈ⎤⎤⎞  ⎛h̅     ⎡⎡-ⅈ⎤⎤⎞⎤\n",
       "⎢⎜───, 1, ⎢⎢ ⎥⎥⎟, ⎜─, 1, ⎢⎢  ⎥⎥⎟⎥\n",
       "⎣⎝ 2      ⎣⎣1⎦⎦⎠  ⎝2     ⎣⎣1 ⎦⎦⎠⎦"
      ]
     },
     "execution_count": 19,
     "metadata": {},
     "output_type": "execute_result"
    }
   ],
   "source": [
    "Sy.eigenvects()  # eigenvalues, their multiplicities and eigenvectors"
   ]
  },
  {
   "cell_type": "code",
   "execution_count": 20,
   "id": "4bb83ebb",
   "metadata": {},
   "outputs": [],
   "source": [
    "B = 1/sym.sqrt(2)                           # normalisation constant for eigenvectors\n",
    "chi_y_minus = B * Sy.eigenvects()[0][2][0]  # select the first eigenvector\n",
    "chi_y_plus  = B * Sy.eigenvects()[1][2][0]  # select the second eigenvector"
   ]
  },
  {
   "cell_type": "code",
   "execution_count": 21,
   "id": "e59e2f3e",
   "metadata": {},
   "outputs": [
    {
     "name": "stdout",
     "output_type": "stream",
     "text": [
      "The probability to measure -ℏ/2 is:\n"
     ]
    },
    {
     "data": {
      "image/png": "[encoded data removed]",
      "text/latex": [
       "$\\displaystyle \\frac{1}{18}$"
      ],
      "text/plain": [
       "1/18"
      ]
     },
     "execution_count": 21,
     "metadata": {},
     "output_type": "execute_result"
    }
   ],
   "source": [
    "print(\"The probability to measure -ℏ/2 is:\")\n",
    "c1 = Dagger(chi_y_minus).dot(chi)\n",
    "sym.Abs(c1)**2"
   ]
  },
  {
   "cell_type": "code",
   "execution_count": 22,
   "id": "550c1214",
   "metadata": {},
   "outputs": [
    {
     "name": "stdout",
     "output_type": "stream",
     "text": [
      "The probability to measure +ℏ/2 is:\n"
     ]
    },
    {
     "data": {
      "image/png": "[encoded data removed]",
      "text/latex": [
       "$\\displaystyle \\frac{17}{18}$"
      ],
      "text/plain": [
       "17\n",
       "──\n",
       "18"
      ]
     },
     "execution_count": 22,
     "metadata": {},
     "output_type": "execute_result"
    }
   ],
   "source": [
    "print(\"The probability to measure +ℏ/2 is:\")\n",
    "c2 = Dagger(chi_y_plus).dot(chi)\n",
    "sym.Abs(c2)**2"
   ]
  },
  {
   "cell_type": "code",
   "execution_count": 23,
   "id": "61247e10",
   "metadata": {
    "scrolled": true
   },
   "outputs": [
    {
     "name": "stdout",
     "output_type": "stream",
     "text": [
      "The expectation value of S_y is:\n"
     ]
    },
    {
     "data": {
      "image/png": "[encoded data removed]",
      "text/latex": [
       "$\\displaystyle \\frac{4 \\hbar}{9}$"
      ],
      "text/plain": [
       "4⋅h̅\n",
       "───\n",
       " 9 "
      ]
     },
     "execution_count": 23,
     "metadata": {},
     "output_type": "execute_result"
    }
   ],
   "source": [
    "print(\"The expectation value of S_y is:\")\n",
    "Dagger(chi).dot(Sy @ chi).simplify()"
   ]
  },
  {
   "cell_type": "markdown",
   "id": "3b53c0dc",
   "metadata": {},
   "source": [
    "---"
   ]
  }
 ],
 "metadata": {
  "kernelspec": {
   "display_name": "Python 3 (ipykernel)",
   "language": "python",
   "name": "python3"
  },
  "language_info": {
   "codemirror_mode": {
    "name": "ipython",
    "version": 3
   },
   "file_extension": ".py",
   "mimetype": "text/x-python",
   "name": "python",
   "nbconvert_exporter": "python",
   "pygments_lexer": "ipython3",
   "version": "3.9.13"
  },
  "latex_envs": {
   "LaTeX_envs_menu_present": true,
   "autoclose": false,
   "autocomplete": true,
   "bibliofile": "biblio.bib",
   "cite_by": "apalike",
   "current_citInitial": 1,
   "eqLabelWithNumbers": true,
   "eqNumInitial": 1,
   "hotkeys": {
    "equation": "Ctrl-E",
    "itemize": "Ctrl-I"
   },
   "labels_anchors": false,
   "latex_user_defs": false,
   "report_style_numbering": false,
   "user_envs_cfg": false
  }
 },
 "nbformat": 4,
 "nbformat_minor": 5
}
