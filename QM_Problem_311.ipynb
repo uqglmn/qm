{
 "cells": [
  {
   "cell_type": "markdown",
   "id": "f6a5cea6",
   "metadata": {},
   "source": [
    "## Unit 3 - Formalism"
   ]
  },
  {
   "cell_type": "markdown",
   "id": "3985729a",
   "metadata": {},
   "source": [
    "<a href=\"https://colab.research.google.com/github/uqglmn/qm/blob/main/QM_Problem_311.ipynb\" target=\"_parent\"><img src=\"https://colab.research.google.com/assets/colab-badge.svg\" alt=\"Open In Colab\"/></a>"
   ]
  },
  {
   "cell_type": "markdown",
   "id": "86e90836",
   "metadata": {},
   "source": [
    "### Problem 3.11 (a modified version)\n",
    "\n",
    "(a) Find the momentum-space representations $\\phi_n(p)$ of the first five stationary states $\\psi_n(x)$ of a particle in the harmonic potential well. \n",
    "\n",
    "(b) What is the probability that a measurement of $x$ on a particle in the state $\\psi_n(x)$ would yield a value outside the classical range, $E_{P}=m\\omega^2 x^2/2$?\n",
    "\n",
    "(c) What is the probability that a measurement of $p$ on a particle in the state $\\phi_n(p)$ would yield a value outside the classical range, $E_{K}=p^2/2m$?\n",
    "\n",
    "In (b) and (c), state your answers to two significant digits."
   ]
  },
  {
   "cell_type": "markdown",
   "id": "d6624670",
   "metadata": {},
   "source": [
    "### Solution"
   ]
  },
  {
   "cell_type": "markdown",
   "id": "b6f53522",
   "metadata": {},
   "source": [
    "#### Load SymPy and variables"
   ]
  },
  {
   "cell_type": "code",
   "execution_count": 1,
   "id": "a04ab569",
   "metadata": {},
   "outputs": [],
   "source": [
    "import numpy as np\n",
    "import sympy as sym"
   ]
  },
  {
   "cell_type": "code",
   "execution_count": 2,
   "id": "8f327cb2",
   "metadata": {},
   "outputs": [],
   "source": [
    "# the number of states to find\n",
    "n = 5  \n",
    "\n",
    "# variables\n",
    "m, h, w = sym.symbols(\"m, hbar, w\", positive = True, real = True)\n",
    "p, x, t = sym.symbols(\"p, x, t\", real = True)"
   ]
  },
  {
   "cell_type": "code",
   "execution_count": 3,
   "id": "57dbed8c",
   "metadata": {},
   "outputs": [],
   "source": [
    "sym.init_printing(use_unicode=True)"
   ]
  },
  {
   "cell_type": "markdown",
   "id": "e6485227",
   "metadata": {},
   "source": [
    "#### Solution to (a)"
   ]
  },
  {
   "cell_type": "markdown",
   "id": "1f010918",
   "metadata": {},
   "source": [
    "Stationary states:\n",
    "$$\n",
    "\\psi_n(x) = \\frac{1}{\\sqrt{n!}} (\\hat a_+)^n \\psi_0(x) {}\\quad\\text{ where }\\quad{}  \n",
    "\\psi_0(x) = \\bigg( \\frac{m\\omega}{\\pi \\hbar}\\bigg)^{1/4} \\exp\\bigg( {-}\\frac{m\\omega}{2\\hbar } x^2 \\bigg)\n",
    "$$\n",
    "\n",
    "Ladder operators:\n",
    "$$\n",
    "\\hat a_\\pm \n",
    "= \\frac{1}{\\sqrt{2\\hbar m \\omega}} (\\mp i \\hat p + m \\omega x) \n",
    "= \\frac{1}{\\sqrt{2\\hbar m \\omega}} (\\mp \\hbar \\partial_x + m \\omega x) \n",
    "$$\n",
    "\n",
    "The transformation from position-space to momentum-space:\n",
    "$$\n",
    "\\phi(p) = \\frac{1}{\\sqrt{2\\pi\\hbar}} \\int_{-\\infty}^{+\\infty} \\exp\\bigg({-}\\frac{ipx}{\\hbar}\\bigg)\\, \\psi(x)\\, dx \n",
    "$$"
   ]
  },
  {
   "cell_type": "markdown",
   "id": "0ce56915",
   "metadata": {},
   "source": [
    "First, we define the ground state, the ladder-up and the transformation functions:"
   ]
  },
  {
   "cell_type": "code",
   "execution_count": 4,
   "id": "791f610f",
   "metadata": {},
   "outputs": [],
   "source": [
    "# the ground state\n",
    "\n",
    "𝜓0 = ((m*w)/(sym.pi*h))**sym.Rational(1,4) * sym.exp( -(m*w)/(2*h)*(x**2) ) "
   ]
  },
  {
   "cell_type": "code",
   "execution_count": 5,
   "id": "646bf1d7",
   "metadata": {},
   "outputs": [],
   "source": [
    "# the ladder-up operator\n",
    "\n",
    "def a_plus(𝜓):\n",
    "    return sym.simplify( 1/(sym.sqrt(2*h*m*w))*(-h*sym.diff(𝜓,x,1) + m*w*x*𝜓) )"
   ]
  },
  {
   "cell_type": "code",
   "execution_count": 6,
   "id": "5c8313a5",
   "metadata": {},
   "outputs": [],
   "source": [
    "# the position-space to momentum-space transformation\n",
    "\n",
    "def momentum(𝜓):\n",
    "    return sym.simplify( (1/sym.sqrt(2*sym.pi*h) * sym.integrate(sym.exp(-sym.I*p*x/h)*𝜓, (x,-sym.oo,sym.oo) )) )"
   ]
  },
  {
   "cell_type": "markdown",
   "id": "cf447055",
   "metadata": {},
   "source": [
    "Computations:"
   ]
  },
  {
   "cell_type": "code",
   "execution_count": 7,
   "id": "0383b148",
   "metadata": {},
   "outputs": [],
   "source": [
    "# ground states\n",
    "𝜓 = [𝜓0]           \n",
    "φ = [momentum(𝜓0)]"
   ]
  },
  {
   "cell_type": "code",
   "execution_count": 8,
   "id": "1d147eb1",
   "metadata": {},
   "outputs": [
    {
     "name": "stdout",
     "output_type": "stream",
     "text": [
      "Done                \n"
     ]
    }
   ],
   "source": [
    "# excited states\n",
    "for i in range(n-1): \n",
    "    𝜓.append(1/sym.sqrt(i+1)*a_plus(𝜓[i]))\n",
    "    φ.append(momentum(𝜓[i+1]))\n",
    "    print(f\"{i+1}th state computed\", end=\"\\r\")\n",
    "print(\"Done                \")"
   ]
  },
  {
   "cell_type": "markdown",
   "id": "67d9a45e",
   "metadata": {},
   "source": [
    "Sanity check - verify normalisation:"
   ]
  },
  {
   "cell_type": "code",
   "execution_count": 9,
   "id": "096bf39f",
   "metadata": {},
   "outputs": [
    {
     "name": "stdout",
     "output_type": "stream",
     "text": [
      "1 1\n",
      "1 1\n",
      "1 1\n",
      "1 1\n",
      "1 1\n"
     ]
    }
   ],
   "source": [
    "for i in range(n):\n",
    "    print(sym.integrate(sym.conjugate(𝜓[i])*𝜓[i], (x,-sym.oo,sym.oo)), \n",
    "          sym.integrate(sym.conjugate(φ[i])*φ[i], (p,-sym.oo,sym.oo)))"
   ]
  },
  {
   "cell_type": "markdown",
   "id": "cf885edc",
   "metadata": {},
   "source": [
    "Let's inspect the fifth state - they are in principle the same in both spaces:"
   ]
  },
  {
   "cell_type": "code",
   "execution_count": 10,
   "id": "a9fde4ec",
   "metadata": {},
   "outputs": [
    {
     "data": {
      "image/png": "[encoded data removed]",
      "text/latex": [
       "$\\displaystyle \\frac{\\sqrt{6} \\sqrt[4]{m} \\sqrt[4]{w} \\left(3 \\hbar^{2} - 12 \\hbar m w x^{2} + 4 m^{2} w^{2} x^{4}\\right) e^{- \\frac{m w x^{2}}{2 \\hbar}}}{12 \\sqrt[4]{\\pi} \\hbar^{\\frac{9}{4}}}$"
      ],
      "text/plain": [
       "                                                        2 \n",
       "                                                  -m⋅w⋅x  \n",
       "                                                  ────────\n",
       "   4 ___ 4 ___ ⎛   2             2      2  2  4⎞    2⋅h̅  \n",
       "√6⋅╲╱ m ⋅╲╱ w ⋅⎝3⋅h̅  - 12⋅h̅⋅m⋅w⋅x  + 4⋅m ⋅w ⋅x ⎠⋅ℯ        \n",
       "──────────────────────────────────────────────────────────\n",
       "                         4 ___  9/4                       \n",
       "                      12⋅╲╱ π ⋅h̅                         "
      ]
     },
     "execution_count": 10,
     "metadata": {},
     "output_type": "execute_result"
    }
   ],
   "source": [
    "𝜓[4]  # position-space"
   ]
  },
  {
   "cell_type": "code",
   "execution_count": 11,
   "id": "ae605455",
   "metadata": {},
   "outputs": [
    {
     "data": {
      "image/png": "[encoded data removed]",
      "text/latex": [
       "$\\displaystyle \\frac{\\sqrt{6} \\left(\\frac{\\hbar^{2} m^{2} w^{2}}{4} - \\hbar m p^{2} w + \\frac{p^{4}}{3}\\right) e^{- \\frac{p^{2}}{2 \\hbar m w}}}{\\sqrt[4]{\\pi} \\hbar^{\\frac{9}{4}} m^{\\frac{9}{4}} w^{\\frac{9}{4}}}$"
      ],
      "text/plain": [
       "                                   2  \n",
       "                                 -p   \n",
       "   ⎛ 2  2  2               4⎞  ───────\n",
       "   ⎜h̅ ⋅m ⋅w         2     p ⎟  2⋅h̅⋅m⋅w\n",
       "√6⋅⎜──────── - h̅⋅m⋅p ⋅w + ──⎟⋅ℯ       \n",
       "   ⎝   4                  3 ⎠         \n",
       "──────────────────────────────────────\n",
       "         4 ___  9/4  9/4  9/4         \n",
       "        ╲╱ π ⋅h̅   ⋅m   ⋅w            "
      ]
     },
     "execution_count": 11,
     "metadata": {},
     "output_type": "execute_result"
    }
   ],
   "source": [
    "φ[4]  # momentum-space"
   ]
  },
  {
   "cell_type": "markdown",
   "id": "5b73e7cd",
   "metadata": {},
   "source": [
    "Plotting reveals that $\\psi_n(x)$ and $\\phi_n(p)$ are indeed essentially the same! "
   ]
  },
  {
   "cell_type": "code",
   "execution_count": 12,
   "id": "26ba791b",
   "metadata": {},
   "outputs": [
    {
     "data": {
      "image/png": "[encoded data removed]",
      "text/plain": [
       "<Figure size 400x300 with 1 Axes>"
      ]
     },
     "metadata": {},
     "output_type": "display_data"
    }
   ],
   "source": [
    "p0 = sym.plot(x*x/2, (x,-5,5), show=False, ylabel=\"\", title=\"Position-space\", size=(4,3))\n",
    "\n",
    "for i in range(n):\n",
    "    p0.extend( sym.plot(2*i+𝜓[i].subs({m:1,w:1,h:1}), (x,-5,5), show=False) )\n",
    "\n",
    "p0.show()"
   ]
  },
  {
   "cell_type": "code",
   "execution_count": 13,
   "id": "b2d7242f",
   "metadata": {},
   "outputs": [
    {
     "data": {
      "image/png": "[encoded data removed]",
      "text/plain": [
       "<Figure size 400x300 with 1 Axes>"
      ]
     },
     "metadata": {},
     "output_type": "display_data"
    }
   ],
   "source": [
    "p0 = sym.plot(p*p/2, (p,-5,5), show=False, ylabel=\"\", title=\"Momentum-space\", size=(4,3))\n",
    "\n",
    "for i in range(n):\n",
    "    # odd φ's have an imaginary I, so multiply them by an I to make them real  \n",
    "    p0.extend( sym.plot(2*i+(sym.I)**i*φ[i].subs({m:1,w:1,h:1}), (p,-5,5), show=False) )  \n",
    "\n",
    "p0.show()"
   ]
  },
  {
   "cell_type": "markdown",
   "id": "9e08571f",
   "metadata": {},
   "source": [
    "#### Solution to (b)"
   ]
  },
  {
   "cell_type": "markdown",
   "id": "b4068c1c",
   "metadata": {},
   "source": [
    "Equating the classical potential energy $E_{P}$ and the energy of the stationary state $E_n$ we get\n",
    "\n",
    "$$\n",
    "\\frac12 m \\omega^2 x_{cl}^2 = \\hbar \\omega\\bigg(n + \\frac12\\bigg) \n",
    "{}\\quad\\Longrightarrow\\quad{}\n",
    "x_{cl} = \\sqrt{\\frac{\\hbar}{m\\omega}( 2n + 1)}\n",
    "$$\n",
    "\n",
    "The probability that a measurement of $p$ on a particle would yield a value outside the classical range is\n",
    "\n",
    "$$\n",
    "P_{n, outside} = 1 - 2\\int_{0}^{x_{cl}} |\\psi_n(x)|^2 dx\n",
    "$$"
   ]
  },
  {
   "cell_type": "code",
   "execution_count": 14,
   "id": "984c18c2",
   "metadata": {},
   "outputs": [
    {
     "name": "stdout",
     "output_type": "stream",
     "text": [
      "Done                \n"
     ]
    }
   ],
   "source": [
    "P = []\n",
    "\n",
    "for i in range(n):\n",
    "    x_cl = sym.sqrt(h/(m*w)*(2*i+1))\n",
    "    Px = sym.N( sym.integrate(sym.conjugate(𝜓[i])*𝜓[i], (x,0,x_cl)).simplify() )\n",
    "    P.append( 1 - 2*Px ) \n",
    "    print(f\"{i}th case computed\", end=\"\\r\")\n",
    "print(\"Done                \")"
   ]
  },
  {
   "cell_type": "markdown",
   "id": "20083e48",
   "metadata": {},
   "source": [
    "The probabilities to observe the particle outside the classical region are:"
   ]
  },
  {
   "cell_type": "code",
   "execution_count": 15,
   "id": "97aba9d0",
   "metadata": {},
   "outputs": [
    {
     "data": {
      "text/plain": [
       "array([0.16, 0.11, 0.1 , 0.09, 0.08])"
      ]
     },
     "execution_count": 15,
     "metadata": {},
     "output_type": "execute_result"
    }
   ],
   "source": [
    "np.array(P, dtype=float).round(2)"
   ]
  },
  {
   "cell_type": "markdown",
   "id": "30fed9d5",
   "metadata": {},
   "source": [
    "#### Solution to (c)"
   ]
  },
  {
   "cell_type": "markdown",
   "id": "6e9ec831",
   "metadata": {},
   "source": [
    "Equating the classical kinetic energy $E_{K, cl}$ and the energy of the stationary state $E_n$ we get\n",
    "\n",
    "$$\n",
    "\\frac{p_{cl}^2}{2m } = \\hbar \\omega\\bigg(n + \\frac12\\bigg) \n",
    "{}\\quad\\Longrightarrow\\quad{}\n",
    "p_{cl} = \\sqrt{\\hbar m \\omega( 2n + 1)}\n",
    "$$\n",
    "\n",
    "The probability that a measurement of $p$ on a particle would yield a value outside the classical range is\n",
    "\n",
    "$$\n",
    "P_{n,outside} = 1 - 2\\int_{0}^{p_{cl}} |\\phi_n(p)|^2 dp\n",
    "$$"
   ]
  },
  {
   "cell_type": "code",
   "execution_count": 16,
   "id": "29b5a9e3",
   "metadata": {},
   "outputs": [
    {
     "name": "stdout",
     "output_type": "stream",
     "text": [
      "Done                \n"
     ]
    }
   ],
   "source": [
    "P = []\n",
    "\n",
    "for i in range(n):\n",
    "    p_cl = sym.sqrt(h*m*w*(2*i+1))\n",
    "    Px = sym.N( sym.integrate(sym.conjugate(φ[i])*φ[i], (p,0,p_cl)).simplify() )\n",
    "    P.append( 1 - 2*Px ) \n",
    "    print(f\"{i}th case computed\", end=\"\\r\")\n",
    "print(\"Done                \")"
   ]
  },
  {
   "cell_type": "markdown",
   "id": "20e71110",
   "metadata": {},
   "source": [
    "The probabilities to observe the state with momentum outside the classical region are:"
   ]
  },
  {
   "cell_type": "code",
   "execution_count": 17,
   "id": "5fc39900",
   "metadata": {},
   "outputs": [
    {
     "data": {
      "text/plain": [
       "array([0.16, 0.11, 0.1 , 0.09, 0.08])"
      ]
     },
     "execution_count": 17,
     "metadata": {},
     "output_type": "execute_result"
    }
   ],
   "source": [
    "import numpy as np\n",
    "np.array(P, dtype=float).round(2)"
   ]
  },
  {
   "cell_type": "markdown",
   "id": "972a86e9",
   "metadata": {},
   "source": [
    "---"
   ]
  }
 ],
 "metadata": {
  "kernelspec": {
   "display_name": "Python 3 (ipykernel)",
   "language": "python",
   "name": "python3"
  },
  "language_info": {
   "codemirror_mode": {
    "name": "ipython",
    "version": 3
   },
   "file_extension": ".py",
   "mimetype": "text/x-python",
   "name": "python",
   "nbconvert_exporter": "python",
   "pygments_lexer": "ipython3",
   "version": "3.9.13"
  },
  "latex_envs": {
   "LaTeX_envs_menu_present": true,
   "autoclose": false,
   "autocomplete": true,
   "bibliofile": "biblio.bib",
   "cite_by": "apalike",
   "current_citInitial": 1,
   "eqLabelWithNumbers": true,
   "eqNumInitial": 1,
   "hotkeys": {
    "equation": "Ctrl-E",
    "itemize": "Ctrl-I"
   },
   "labels_anchors": false,
   "latex_user_defs": false,
   "report_style_numbering": false,
   "user_envs_cfg": false
  }
 },
 "nbformat": 4,
 "nbformat_minor": 5
}
