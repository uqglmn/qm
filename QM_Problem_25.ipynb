{
 "cells": [
  {
   "cell_type": "markdown",
   "id": "f6a5cea6",
   "metadata": {},
   "source": [
    "## Unit 2 - Time-Independent Schrödinger Equation"
   ]
  },
  {
   "cell_type": "markdown",
   "id": "3985729a",
   "metadata": {},
   "source": [
    "<a href=\"https://colab.research.google.com/github/uqglmn/qm/blob/main/QM_Problem_25.ipynb\" target=\"_parent\"><img src=\"https://colab.research.google.com/assets/colab-badge.svg\" alt=\"Open In Colab\"/></a>"
   ]
  },
  {
   "cell_type": "markdown",
   "id": "86e90836",
   "metadata": {},
   "source": [
    "### Problem 2.5\n",
    "\n",
    "A particle in the infinite square well has as its initial wave function an even\n",
    "mixture of the first two stationary states:\n",
    "\n",
    "$$\n",
    "\\Psi(x,0) = A ( \\psi_1(x) + \\psi_2(x) )\n",
    "$$\n",
    "\n",
    "(a) Normalise $\\Psi(x,0)$.\n",
    "\n",
    "(b) Find \u0004$\\Psi(x, t)$ and $\\Psi|(x,t)|^2$. Express the latter as a sinusoidal function of time. To simplify the result, use notation $\\omega=\\dfrac{\\pi^2\\hbar}{2ma^2} = \\dfrac{E_1}{\\hbar}$.\n",
    "\n",
    "(c) Compute $\\langle x \\rangle$\u0007. Notice that it oscillates in time. What is the angular frequency of the oscillation? What is the amplitude of the oscillation?\n",
    "\n",
    "(d) Compute $\\langle \\hat p \\rangle$\u0007.\n",
    "\n",
    "(e) If you measured the energy of this particle, what values might you get, and what is the probability of getting each of them? Find the expectation value of $\\hat H$. How does it compare with $E_1$ and $E_2$?"
   ]
  },
  {
   "cell_type": "markdown",
   "id": "d6624670",
   "metadata": {},
   "source": [
    "### Solution"
   ]
  },
  {
   "cell_type": "markdown",
   "id": "b6f53522",
   "metadata": {},
   "source": [
    "#### Load SymPy and variables"
   ]
  },
  {
   "cell_type": "code",
   "execution_count": 1,
   "id": "a04ab569",
   "metadata": {},
   "outputs": [],
   "source": [
    "import sympy as sym"
   ]
  },
  {
   "cell_type": "code",
   "execution_count": 2,
   "id": "8f327cb2",
   "metadata": {},
   "outputs": [],
   "source": [
    "# constants that we will need\n",
    "m, h, w, A, a = sym.symbols(\"m, hbar, w, A, a\", positive = True, real = True)\n",
    "x, t = sym.symbols(\"x, t\", real = True)"
   ]
  },
  {
   "cell_type": "code",
   "execution_count": 3,
   "id": "57dbed8c",
   "metadata": {},
   "outputs": [],
   "source": [
    "sym.init_printing(use_unicode=True)"
   ]
  },
  {
   "cell_type": "markdown",
   "id": "1f010918",
   "metadata": {},
   "source": [
    "#### Solution to (a)\n",
    "\n",
    "Stationary solutions:\n",
    "$\n",
    "\\psi_n(x) = \\sqrt{\\dfrac{2}{a}} \\sin \\dfrac{n\\pi x}{a}\n",
    "$\n",
    "\n",
    "The allowed energy levels: $E_n = \\dfrac{n^2 \\pi^2 \\hbar^2}{2ma} = n^2 \\omega \\hbar$\n"
   ]
  },
  {
   "cell_type": "code",
   "execution_count": 4,
   "id": "791f610f",
   "metadata": {},
   "outputs": [
    {
     "data": {
      "image/png": "[encoded data removed]",
      "text/latex": [
       "$\\displaystyle A \\left(\\frac{\\sqrt{2} \\sin{\\left(\\frac{\\pi x}{a} \\right)}}{\\sqrt{a}} + \\frac{\\sqrt{2} \\sin{\\left(\\frac{2 \\pi x}{a} \\right)}}{\\sqrt{a}}\\right)$"
      ],
      "text/plain": [
       "  ⎛      ⎛π⋅x⎞         ⎛2⋅π⋅x⎞⎞\n",
       "  ⎜√2⋅sin⎜───⎟   √2⋅sin⎜─────⎟⎟\n",
       "  ⎜      ⎝ a ⎠         ⎝  a  ⎠⎟\n",
       "A⋅⎜─────────── + ─────────────⎟\n",
       "  ⎝     √a             √a     ⎠"
      ]
     },
     "execution_count": 4,
     "metadata": {},
     "output_type": "execute_result"
    }
   ],
   "source": [
    "# the initial state Ψ(x,0)\n",
    "Ψ0 = A * ( sym.sqrt(2/a) * sym.sin(sym.pi*x/a) + sym.sqrt(2/a) * sym.sin(2*sym.pi*x/a) )\n",
    "Ψ0"
   ]
  },
  {
   "cell_type": "code",
   "execution_count": 5,
   "id": "78a7ca9d-c837-4a7f-808f-87944d9c6db6",
   "metadata": {},
   "outputs": [
    {
     "data": {
      "image/png": "[encoded data removed]",
      "text/latex": [
       "$\\displaystyle 2 A^{2}$"
      ],
      "text/plain": [
       "   2\n",
       "2⋅A "
      ]
     },
     "execution_count": 5,
     "metadata": {},
     "output_type": "execute_result"
    }
   ],
   "source": [
    "# normalisation condition\n",
    "sym.integrate(sym.conjugate(Ψ0)*Ψ0,(x, 0, a))"
   ]
  },
  {
   "cell_type": "code",
   "execution_count": 6,
   "id": "78eeec4d-c001-47dd-8829-a378c42cec2a",
   "metadata": {},
   "outputs": [
    {
     "data": {
      "image/png": "[encoded data removed]",
      "text/latex": [
       "$\\displaystyle \\frac{\\sqrt{2}}{2}$"
      ],
      "text/plain": [
       "√2\n",
       "──\n",
       "2 "
      ]
     },
     "execution_count": 6,
     "metadata": {},
     "output_type": "execute_result"
    }
   ],
   "source": [
    "# from above we find that A = 1/sqrt(2)\n",
    "A = 1/sym.sqrt(2)\n",
    "A"
   ]
  },
  {
   "cell_type": "markdown",
   "id": "30fed9d5",
   "metadata": {},
   "source": [
    "#### Solution to (b)"
   ]
  },
  {
   "cell_type": "code",
   "execution_count": 7,
   "id": "f072a216",
   "metadata": {},
   "outputs": [
    {
     "data": {
      "image/png": "[encoded data removed]",
      "text/latex": [
       "$\\displaystyle \\frac{\\sqrt{2} \\left(\\frac{\\sqrt{2} e^{- i t w} \\sin{\\left(\\frac{\\pi x}{a} \\right)}}{\\sqrt{a}} + \\frac{\\sqrt{2} e^{- 4 i t w} \\sin{\\left(\\frac{2 \\pi x}{a} \\right)}}{\\sqrt{a}}\\right)}{2}$"
      ],
      "text/plain": [
       "   ⎛    -ⅈ⋅t⋅w    ⎛π⋅x⎞       -4⋅ⅈ⋅t⋅w    ⎛2⋅π⋅x⎞⎞\n",
       "   ⎜√2⋅ℯ      ⋅sin⎜───⎟   √2⋅ℯ        ⋅sin⎜─────⎟⎟\n",
       "   ⎜              ⎝ a ⎠                   ⎝  a  ⎠⎟\n",
       "√2⋅⎜─────────────────── + ───────────────────────⎟\n",
       "   ⎝         √a                      √a          ⎠\n",
       "──────────────────────────────────────────────────\n",
       "                        2                         "
      ]
     },
     "execution_count": 7,
     "metadata": {},
     "output_type": "execute_result"
    }
   ],
   "source": [
    "# wave function Ψ(x,t)\n",
    "# here we're using the notation E1 = w*h\n",
    "Ψt = A * ( sym.sqrt(2/a) * sym.sin(sym.pi*x/a) * sym.exp(-sym.I*w*t) + sym.sqrt(2/a) * sym.sin(2*sym.pi*x/a) * sym.exp(-sym.I*4*w*t) )\n",
    "Ψt"
   ]
  },
  {
   "cell_type": "code",
   "execution_count": 8,
   "id": "6a93d4a9-e96e-4a83-a70b-caa8a3f6a229",
   "metadata": {},
   "outputs": [
    {
     "data": {
      "image/png": "[encoded data removed]",
      "text/latex": [
       "$\\displaystyle \\frac{\\left(- 4 \\sin^{2}{\\left(\\frac{\\pi x}{a} \\right)} + 4 \\cos{\\left(3 t w \\right)} \\cos{\\left(\\frac{\\pi x}{a} \\right)} + 5\\right) \\sin^{2}{\\left(\\frac{\\pi x}{a} \\right)}}{a}$"
      ],
      "text/plain": [
       "⎛       2⎛π⋅x⎞                   ⎛π⋅x⎞    ⎞    2⎛π⋅x⎞\n",
       "⎜- 4⋅sin ⎜───⎟ + 4⋅cos(3⋅t⋅w)⋅cos⎜───⎟ + 5⎟⋅sin ⎜───⎟\n",
       "⎝        ⎝ a ⎠                   ⎝ a ⎠    ⎠     ⎝ a ⎠\n",
       "─────────────────────────────────────────────────────\n",
       "                          a                          "
      ]
     },
     "execution_count": 8,
     "metadata": {},
     "output_type": "execute_result"
    }
   ],
   "source": [
    "# the absolute value of the wave function squared\n",
    "ΨtSq = (sym.conjugate(Ψt) * Ψt).factor().rewrite(sym.sin).simplify()\n",
    "ΨtSq"
   ]
  },
  {
   "cell_type": "markdown",
   "id": "4b3a852e-39c1-47f5-b5cd-47fabbee37c3",
   "metadata": {},
   "source": [
    "#### Solution to (c)"
   ]
  },
  {
   "cell_type": "code",
   "execution_count": 9,
   "id": "40080180-0455-49aa-889b-f7ee6b490ee8",
   "metadata": {},
   "outputs": [
    {
     "data": {
      "image/png": "[encoded data removed]",
      "text/latex": [
       "$\\displaystyle - \\frac{16 a \\cos{\\left(3 t w \\right)}}{9 \\pi^{2}} + \\frac{a}{2}$"
      ],
      "text/plain": [
       "  16⋅a⋅cos(3⋅t⋅w)   a\n",
       "- ─────────────── + ─\n",
       "           2        2\n",
       "        9⋅π          "
      ]
     },
     "execution_count": 9,
     "metadata": {},
     "output_type": "execute_result"
    }
   ],
   "source": [
    "# the expectation value of x, \"the mean of x, or mx\"\n",
    "mx = sym.integrate(x*ΨtSq, (x, 0, a)).simplify()\n",
    "mx"
   ]
  },
  {
   "cell_type": "markdown",
   "id": "437f0732-6253-489a-929d-55b0e191fcf4",
   "metadata": {},
   "source": [
    "We see that $\\langle x \\rangle$ oscillates about $\\dfrac{a}{2}$ with the amplitude $\\dfrac{16a}{9\\pi^2}$.\n",
    "\n",
    "The angular frequency is $3\\omega = \\dfrac{3\\pi^2\\hbar}{2ma^2}$."
   ]
  },
  {
   "cell_type": "markdown",
   "id": "37d9d552-4f6e-4e9a-a2a2-883d7dd56a2f",
   "metadata": {},
   "source": [
    "#### Solution to (d)"
   ]
  },
  {
   "cell_type": "code",
   "execution_count": 10,
   "id": "79728a03-a0a7-40ce-9280-4363dad8b78b",
   "metadata": {},
   "outputs": [
    {
     "data": {
      "image/png": "[encoded data removed]",
      "text/latex": [
       "$\\displaystyle \\frac{16 a m w \\sin{\\left(3 t w \\right)}}{3 \\pi^{2}}$"
      ],
      "text/plain": [
       "16⋅a⋅m⋅w⋅sin(3⋅t⋅w)\n",
       "───────────────────\n",
       "           2       \n",
       "        3⋅π        "
      ]
     },
     "execution_count": 10,
     "metadata": {},
     "output_type": "execute_result"
    }
   ],
   "source": [
    "# the expectation value of p, \"the mean of p, or mp\"\n",
    "mp = m*sym.diff(mx, t).simplify()\n",
    "mp"
   ]
  },
  {
   "cell_type": "markdown",
   "id": "535c6a60-8e0c-4b10-a06d-04a492aa99cf",
   "metadata": {},
   "source": [
    "This expression can be simplyfied by substituting $\\omega = \\dfrac{\\pi^2 \\hbar}{2ma^2}$ into the $\\omega$ in the numerator:"
   ]
  },
  {
   "cell_type": "code",
   "execution_count": 11,
   "id": "52211a8f-b6c0-4b73-b60c-1411ebac726e",
   "metadata": {},
   "outputs": [
    {
     "data": {
      "image/png": "[encoded data removed]",
      "text/latex": [
       "$\\displaystyle \\frac{8 \\hbar \\sin{\\left(3 t w \\right)}}{3 a}$"
      ],
      "text/plain": [
       "8⋅h̅⋅sin(3⋅t⋅w)\n",
       "──────────────\n",
       "     3⋅a      "
      ]
     },
     "execution_count": 11,
     "metadata": {},
     "output_type": "execute_result"
    }
   ],
   "source": [
    "# multiply with pi^2h / 2ma^2 and divide by w:\n",
    "mp * (sym.pi**2 * h / (2*m*a**2)) / w"
   ]
  },
  {
   "cell_type": "markdown",
   "id": "a98f0519-7803-4646-b718-2f0e95a23939",
   "metadata": {},
   "source": [
    "#### Solution to (e)"
   ]
  },
  {
   "cell_type": "markdown",
   "id": "0e7831c9-ff45-48cf-a0fd-c83b609a9a3e",
   "metadata": {},
   "source": [
    "The energy expectation value is \n",
    "\n",
    "$\\langle \\hat H \\rangle = \\sum_{n=1}^\\infty |c_n|^2 E_n$\n",
    "\n",
    "We found that \n",
    "\n",
    "$\n",
    "\\Psi(x,t) = \\frac{1}{\\sqrt{2}} ( \\psi_1(x) e^{-iE_1t/\\hbar}+ \\psi_2(x) e^{-iE_2t/\\hbar} )\n",
    "$\n",
    "\n",
    "This mean that:\n",
    "\n",
    "- There is $P_1 = |c_1|^2 = \\dfrac12$ probability to measure $E_1$\n",
    "- There is $P_2 = |c_2|^2 = \\dfrac12$ probability to measure $E_2=4E_1$\n",
    "\n",
    "Therefore:\n",
    "\n",
    "$\\langle \\hat H \\rangle = \\dfrac12 E_1 + \\dfrac12 E_2 = \\dfrac52E_1 = \\dfrac{5\\pi^2\\hbar^2}{2ma^2}$\n",
    "\n",
    "and\n",
    "\n",
    "$E_1 < \\langle \\hat H \\rangle < E_2$"
   ]
  },
  {
   "cell_type": "markdown",
   "id": "972a86e9",
   "metadata": {},
   "source": [
    "---"
   ]
  }
 ],
 "metadata": {
  "kernelspec": {
   "display_name": "Python 3 (ipykernel)",
   "language": "python",
   "name": "python3"
  },
  "language_info": {
   "codemirror_mode": {
    "name": "ipython",
    "version": 3
   },
   "file_extension": ".py",
   "mimetype": "text/x-python",
   "name": "python",
   "nbconvert_exporter": "python",
   "pygments_lexer": "ipython3",
   "version": "3.11.7"
  },
  "latex_envs": {
   "LaTeX_envs_menu_present": true,
   "autoclose": false,
   "autocomplete": true,
   "bibliofile": "biblio.bib",
   "cite_by": "apalike",
   "current_citInitial": 1,
   "eqLabelWithNumbers": true,
   "eqNumInitial": 1,
   "hotkeys": {
    "equation": "Ctrl-E",
    "itemize": "Ctrl-I"
   },
   "labels_anchors": false,
   "latex_user_defs": false,
   "report_style_numbering": false,
   "user_envs_cfg": false
  }
 },
 "nbformat": 4,
 "nbformat_minor": 5
}
