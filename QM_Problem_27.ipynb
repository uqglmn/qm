{
 "cells": [
  {
   "cell_type": "markdown",
   "id": "b41c5ed6",
   "metadata": {},
   "source": [
    "## Unit 2 - Time-Independent Schrödinger Equation"
   ]
  },
  {
   "cell_type": "markdown",
   "id": "2f2e3210",
   "metadata": {},
   "source": [
    "<a href=\"https://colab.research.google.com/github/uqglmn/qm/blob/main/QM_Problem_27.ipynb\" target=\"_parent\"><img src=\"https://colab.research.google.com/assets/colab-badge.svg\" alt=\"Open In Colab\"/></a>"
   ]
  },
  {
   "cell_type": "markdown",
   "id": "910f3c72",
   "metadata": {},
   "source": [
    "### Problem 2.7\n",
    "\n",
    "A particle in the infinite square well has the initial wave function:\n",
    "$$\n",
    "\\Psi(x,0) = \\begin{cases} \n",
    "A\\,x     & 0 \\le x \\le a/2 \\\\\n",
    "A\\,(a-x) & a/2 \\le x \\le a\n",
    "\\end{cases}\n",
    "$$\n",
    "\n",
    "where $a$ and $A$ are positive real constants.\n",
    "\n",
    "(a) Sketch $\\Psi(x,0)$ and determine $A$.\n",
    "\n",
    "(b) Find $\\Psi(x,t)$.\n",
    "\n",
    "(c) What is the probability that a measurement of the energy would yield the value $E_1$?\n",
    "\n",
    "(d) Find the expectation value of the energy, using $\\langle \\hat H \\rangle = \\sum_n |c_n|^2 E_n$."
   ]
  },
  {
   "cell_type": "markdown",
   "id": "b8db3a7e",
   "metadata": {},
   "source": [
    "### Solution"
   ]
  },
  {
   "cell_type": "markdown",
   "id": "d0486a2d",
   "metadata": {},
   "source": [
    "#### Load SymPy and variables"
   ]
  },
  {
   "cell_type": "code",
   "execution_count": 1,
   "id": "cc6e956b",
   "metadata": {},
   "outputs": [],
   "source": [
    "import sympy as sym"
   ]
  },
  {
   "cell_type": "code",
   "execution_count": 2,
   "id": "0c47584f",
   "metadata": {},
   "outputs": [],
   "source": [
    "a, A, m, h = sym.symbols(\"a A m hbar\", positive=True, real=True)\n",
    "n = sym.symbols(\"n\", positive=True, integer=True)\n",
    "x = sym.symbols(\"x\", real=True)"
   ]
  },
  {
   "cell_type": "code",
   "execution_count": 3,
   "id": "c2ed7591-dcfc-46d0-a773-8768f1c28496",
   "metadata": {},
   "outputs": [],
   "source": [
    "sym.init_printing(use_unicode=True)"
   ]
  },
  {
   "cell_type": "markdown",
   "id": "6208e7df",
   "metadata": {},
   "source": [
    "#### Solution to (a)"
   ]
  },
  {
   "cell_type": "markdown",
   "id": "f9b1bcde-c63a-4b58-ab1c-b7dbebfd6078",
   "metadata": {},
   "source": [
    "Sketching $\\Psi(x,0)$ with $A=a=1$:"
   ]
  },
  {
   "cell_type": "code",
   "execution_count": 4,
   "id": "9635eebe-eef0-4e07-9040-63267fe4f826",
   "metadata": {},
   "outputs": [
    {
     "data": {
      "image/png": "[encoded data removed]",
      "text/plain": [
       "<Figure size 400x300 with 1 Axes>"
      ]
     },
     "metadata": {},
     "output_type": "display_data"
    }
   ],
   "source": [
    "na = 1\n",
    "p1 = sym.plotting.plot(x, (x,0,1/2), show=False, size=(4,3))\n",
    "p2 = sym.plotting.plot((1-x), (x,1/2,1), show=False)\n",
    "p1.extend(p2)\n",
    "p1.show()"
   ]
  },
  {
   "cell_type": "markdown",
   "id": "15f8d10f",
   "metadata": {},
   "source": [
    "We must have\n",
    "$$\n",
    "\\int_{-\\infty}^{+\\infty}|\\Psi(x,0)|^2 dx = \\int_{0}^{a/2}|A\\,x|^2 dx + \\int_{a/2}^{a}|A\\,(a-x)|^2 dx = 1\n",
    "$$\n",
    "The first integral is:"
   ]
  },
  {
   "cell_type": "code",
   "execution_count": 5,
   "id": "2899acc6",
   "metadata": {},
   "outputs": [
    {
     "data": {
      "image/png": "[encoded data removed]",
      "text/latex": [
       "$\\displaystyle \\frac{A^{2} a^{3}}{24}$"
      ],
      "text/plain": [
       " 2  3\n",
       "A ⋅a \n",
       "─────\n",
       "  24 "
      ]
     },
     "execution_count": 5,
     "metadata": {},
     "output_type": "execute_result"
    }
   ],
   "source": [
    "int1 = sym.integrate((A*x)**2, (x,0,a/2))\n",
    "int1"
   ]
  },
  {
   "cell_type": "markdown",
   "id": "f1bd506b",
   "metadata": {},
   "source": [
    "The second integral is:"
   ]
  },
  {
   "cell_type": "code",
   "execution_count": 6,
   "id": "57556098",
   "metadata": {},
   "outputs": [
    {
     "data": {
      "image/png": "[encoded data removed]",
      "text/latex": [
       "$\\displaystyle \\frac{A^{2} a^{3}}{24}$"
      ],
      "text/plain": [
       " 2  3\n",
       "A ⋅a \n",
       "─────\n",
       "  24 "
      ]
     },
     "execution_count": 6,
     "metadata": {},
     "output_type": "execute_result"
    }
   ],
   "source": [
    "int2 = sym.simplify(sym.integrate((A*(a-x))**2, (x,a/2,a)))\n",
    "int2"
   ]
  },
  {
   "cell_type": "markdown",
   "id": "3fcf838c",
   "metadata": {},
   "source": [
    "This gives\n",
    "$$\n",
    "\\frac{A^2a^3}{24} + \\frac{A^2a^3}{24} = 1 \n",
    "\\quad \\Longrightarrow\\quad A = \\frac{2\\sqrt{3}}{\\sqrt{a^3}}\n",
    "$$\n",
    "Let's repeat this with SymPy:"
   ]
  },
  {
   "cell_type": "code",
   "execution_count": 7,
   "id": "ae461228",
   "metadata": {},
   "outputs": [
    {
     "data": {
      "image/png": "[encoded data removed]",
      "text/latex": [
       "$\\displaystyle \\left[ \\frac{2 \\sqrt{3}}{a^{\\frac{3}{2}}}\\right]$"
      ],
      "text/plain": [
       "⎡2⋅√3⎤\n",
       "⎢────⎥\n",
       "⎢ 3/2⎥\n",
       "⎣a   ⎦"
      ]
     },
     "execution_count": 7,
     "metadata": {},
     "output_type": "execute_result"
    }
   ],
   "source": [
    "sym.solve(int1 + int2 - 1, A)"
   ]
  },
  {
   "cell_type": "markdown",
   "id": "83ceda22",
   "metadata": {},
   "source": [
    "Answer: $A = \\frac{2\\sqrt{3}}{\\sqrt{a^3}}$ since $A$ is a positive real constant."
   ]
  },
  {
   "cell_type": "markdown",
   "id": "b88658f6",
   "metadata": {},
   "source": [
    "#### Solution to (b)\n"
   ]
  },
  {
   "cell_type": "markdown",
   "id": "44ad2bd7",
   "metadata": {},
   "source": [
    "The general solution to TDSE is\n",
    "\n",
    "$$\n",
    "\\Psi(x,t) = \\sum_{n=1}^\\infty c_n \\psi_n(x) e^{-i E_m t / \\hbar}\n",
    "$$\n",
    "\n",
    "where\n",
    "\n",
    "$$\n",
    "c_n = \\int_{-\\infty}^{+\\infty} \\psi_n^*(x) \\Psi(x,0) dx = \\int_{0}^{a/2} \\sqrt{\\frac{2}{a}} \\sin\\frac{n\\pi x}{a} A x dx + \\int_{a/2}^{a} \\sqrt{\\frac{2}{a}} \\sin\\frac{n\\pi x}{a} A(a-x) dx\n",
    "$$\n"
   ]
  },
  {
   "cell_type": "markdown",
   "id": "aaad0d51-61e9-4645-a2db-0ec1a2f91e51",
   "metadata": {},
   "source": [
    "Stationary states:"
   ]
  },
  {
   "cell_type": "code",
   "execution_count": 8,
   "id": "2cb3a8ed-82d2-4d36-a051-33105ef387b8",
   "metadata": {},
   "outputs": [],
   "source": [
    "ψn = sym.sqrt(2/a) * sym.sin( n*sym.pi*x / a )\n",
    "A  = 2*sym.sqrt(3/a**3)"
   ]
  },
  {
   "cell_type": "markdown",
   "id": "085bb347-4278-4c01-a718-812eda2af607",
   "metadata": {},
   "source": [
    "The wanted integrals are:"
   ]
  },
  {
   "cell_type": "code",
   "execution_count": 9,
   "id": "1369d16d-d0ae-4710-a8ae-11f716e6acd3",
   "metadata": {},
   "outputs": [],
   "source": [
    "int1 = sym.integrate( ψn*A*x, (x,0,a/2))\n",
    "int2 = sym.integrate( ψn*A*(a-x), (x,a/2,a))"
   ]
  },
  {
   "cell_type": "code",
   "execution_count": 10,
   "id": "a7469d68-d2fa-4d6a-9da3-da811717372b",
   "metadata": {},
   "outputs": [
    {
     "data": {
      "image/png": "[encoded data removed]",
      "text/latex": [
       "$\\displaystyle \\frac{4 \\sqrt{6} \\sin{\\left(\\frac{\\pi n}{2} \\right)}}{\\pi^{2} n^{2}}$"
      ],
      "text/plain": [
       "        ⎛π⋅n⎞\n",
       "4⋅√6⋅sin⎜───⎟\n",
       "        ⎝ 2 ⎠\n",
       "─────────────\n",
       "     2  2    \n",
       "    π ⋅n     "
      ]
     },
     "execution_count": 10,
     "metadata": {},
     "output_type": "execute_result"
    }
   ],
   "source": [
    "cn = sym.simplify(int1 + int2)\n",
    "cn"
   ]
  },
  {
   "cell_type": "markdown",
   "id": "bc0ac591-e9b7-45ce-947f-b422fc62351e",
   "metadata": {},
   "source": [
    "Observe that $\\sin(\\pi n/2)=0$ if $n$ is even and $\\sin(\\pi n/2)=(-1)^{(n-1)/2}$ if $n$ is odd. \n",
    "\n",
    "Therefore:\n",
    "\n",
    "$$\n",
    "c_n = \\begin{cases} 0 & \\text{ if $n$ is even} \\\\ (-1)^{(n-1)/2}\\dfrac{4\\sqrt{6}}{\\pi^2 n^2} & \\text{if $n$ is odd} \\end{cases}\n",
    "$$"
   ]
  },
  {
   "cell_type": "markdown",
   "id": "8b2a9ade",
   "metadata": {},
   "source": [
    "#### Solution to (c)"
   ]
  },
  {
   "cell_type": "markdown",
   "id": "54fb5bc4",
   "metadata": {},
   "source": [
    "The probability to measure $E_1$ is \n",
    "\n",
    "$$\n",
    "P_1 = |c_1|^2 = \\bigg|\\frac{4\\sqrt{6}}{\\pi^2}\\bigg|^2 = \\frac{96}{\\pi^4} \\approx 0.9855\n",
    "$$"
   ]
  },
  {
   "cell_type": "code",
   "execution_count": 11,
   "id": "60d381e9",
   "metadata": {},
   "outputs": [
    {
     "data": {
      "image/png": "[encoded data removed]",
      "text/latex": [
       "$\\displaystyle \\frac{96}{\\pi^{4}}$"
      ],
      "text/plain": [
       "96\n",
       "──\n",
       " 4\n",
       "π "
      ]
     },
     "execution_count": 11,
     "metadata": {},
     "output_type": "execute_result"
    }
   ],
   "source": [
    "P1 = (cn**2).subs({n:1})\n",
    "P1"
   ]
  },
  {
   "cell_type": "code",
   "execution_count": 12,
   "id": "d1a47962-751b-42f4-9cc8-f258d894e09e",
   "metadata": {},
   "outputs": [
    {
     "data": {
      "image/png": "[encoded data removed]",
      "text/latex": [
       "$\\displaystyle 0.9855$"
      ],
      "text/plain": [
       "0.9855"
      ]
     },
     "execution_count": 12,
     "metadata": {},
     "output_type": "execute_result"
    }
   ],
   "source": [
    "# evaluate numerically\n",
    "sym.N(P1,4)"
   ]
  },
  {
   "cell_type": "markdown",
   "id": "b836ac7e-21d0-4929-b40c-feba5c371979",
   "metadata": {},
   "source": [
    "#### Solution to (d)"
   ]
  },
  {
   "cell_type": "markdown",
   "id": "baa38d24-dc96-4785-8813-9203fc432478",
   "metadata": {},
   "source": [
    "The expectation value of the energy is:\n",
    "\n",
    "$$\n",
    "\\langle \\hat H \\rangle = \\sum_{n=1}^{\\infty} |c_n|^2 E_n = \\sum_{n=1}^{\\infty} |c_{2n-1}|^2 E_{2n-1}\n",
    "$$\n",
    "\n",
    "since $c_{2n}=0$."
   ]
  },
  {
   "cell_type": "code",
   "execution_count": 13,
   "id": "614ae204-862c-46fb-a881-a6976a2598c2",
   "metadata": {},
   "outputs": [],
   "source": [
    "# level-n energy (with 2n-1 levels)\n",
    "En = ((2*n-1)**2 * sym.pi**2 * h**2) / (2 * m * a**2)\n",
    "cn = (-1)**(n-1) * 4 * sym.sqrt(6) / ((2*n-1)**2 * sym.pi**2 )"
   ]
  },
  {
   "cell_type": "code",
   "execution_count": 14,
   "id": "cdde99d9-53d5-4654-9460-2cc3034d403e",
   "metadata": {},
   "outputs": [
    {
     "data": {
      "image/png": "[encoded data removed]",
      "text/latex": [
       "$\\displaystyle \\frac{6 \\hbar^{2}}{a^{2} m}$"
      ],
      "text/plain": [
       "   2\n",
       "6⋅h̅ \n",
       "────\n",
       " 2  \n",
       "a ⋅m"
      ]
     },
     "execution_count": 14,
     "metadata": {},
     "output_type": "execute_result"
    }
   ],
   "source": [
    "# evaluate the infinite sum\n",
    "sym.Sum(cn*cn*En, (n,1,sym.oo)).doit()"
   ]
  },
  {
   "cell_type": "markdown",
   "id": "2f08d4b0",
   "metadata": {},
   "source": [
    "---"
   ]
  }
 ],
 "metadata": {
  "kernelspec": {
   "display_name": "Python 3 (ipykernel)",
   "language": "python",
   "name": "python3"
  },
  "language_info": {
   "codemirror_mode": {
    "name": "ipython",
    "version": 3
   },
   "file_extension": ".py",
   "mimetype": "text/x-python",
   "name": "python",
   "nbconvert_exporter": "python",
   "pygments_lexer": "ipython3",
   "version": "3.11.7"
  }
 },
 "nbformat": 4,
 "nbformat_minor": 5
}
