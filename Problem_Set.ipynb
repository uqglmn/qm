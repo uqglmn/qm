{
 "cells": [
  {
   "cell_type": "markdown",
   "id": "3da2ce14",
   "metadata": {},
   "source": [
    "## Problem Set"
   ]
  },
  {
   "cell_type": "code",
   "execution_count": 1,
   "id": "4540e96f",
   "metadata": {},
   "outputs": [],
   "source": [
    "import sympy as sym"
   ]
  },
  {
   "cell_type": "code",
   "execution_count": 2,
   "id": "646f29e1",
   "metadata": {},
   "outputs": [],
   "source": [
    "sym.init_printing(use_unicode=True)"
   ]
  },
  {
   "cell_type": "markdown",
   "id": "feb02e46",
   "metadata": {},
   "source": [
    "## Question 1"
   ]
  },
  {
   "cell_type": "markdown",
   "id": "fd765285-a6c3-43ed-8fc1-ac6158f19ec7",
   "metadata": {},
   "source": [
    "#### Part (a) integrals"
   ]
  },
  {
   "cell_type": "code",
   "execution_count": 3,
   "id": "6ac146c2-7055-41a0-abca-1861738575fc",
   "metadata": {},
   "outputs": [],
   "source": [
    "a, b, h = sym.symbols(\"a, b, hbar\", positive = True, real = True)\n",
    "x = sym.symbols(\"x\", real = True)"
   ]
  },
  {
   "cell_type": "code",
   "execution_count": 4,
   "id": "1a3d9965-6bea-4214-bfa1-2ae1247d70e9",
   "metadata": {},
   "outputs": [],
   "source": [
    "𝜓1 = x*(x+a)/a**2       # -a<x<0\n",
    "𝜓2 = b*x*sym.exp(-b*x)  # x>0"
   ]
  },
  {
   "cell_type": "code",
   "execution_count": 5,
   "id": "77628d32-d6ef-40b1-8eb4-be35468f1f88",
   "metadata": {},
   "outputs": [
    {
     "data": {
      "image/png": "[encoded data removed]",
      "text/latex": [
       "$\\displaystyle \\left( \\frac{a}{30}, \\  \\frac{1}{4 b}\\right)$"
      ],
      "text/plain": [
       "⎛a    1 ⎞\n",
       "⎜──, ───⎟\n",
       "⎝30  4⋅b⎠"
      ]
     },
     "execution_count": 5,
     "metadata": {},
     "output_type": "execute_result"
    }
   ],
   "source": [
    "I1 = sym.integrate(𝜓1**2,(x,-a,0)) \n",
    "I2 = sym.integrate(𝜓2**2,(x,0,sym.oo))\n",
    "(I1, I2)"
   ]
  },
  {
   "cell_type": "code",
   "execution_count": 6,
   "id": "11574c8f-fc38-4eea-be51-f1b7e5ec0242",
   "metadata": {},
   "outputs": [
    {
     "data": {
      "image/png": "[encoded data removed]",
      "text/latex": [
       "$\\displaystyle \\left[ 30 - \\frac{15}{2 b}\\right]$"
      ],
      "text/plain": [
       "⎡      15⎤\n",
       "⎢30 - ───⎥\n",
       "⎣     2⋅b⎦"
      ]
     },
     "execution_count": 6,
     "metadata": {},
     "output_type": "execute_result"
    }
   ],
   "source": [
    "sym.solve(I1+I2-1,a)"
   ]
  },
  {
   "cell_type": "code",
   "execution_count": 7,
   "id": "d2c2a6d4-2a24-4d4e-a1c9-73a3f5c21658",
   "metadata": {},
   "outputs": [
    {
     "data": {
      "image/png": "[encoded data removed]",
      "text/latex": [
       "$\\displaystyle \\left[ \\frac{3}{10}\\right]$"
      ],
      "text/plain": [
       "[3/10]"
      ]
     },
     "execution_count": 7,
     "metadata": {},
     "output_type": "execute_result"
    }
   ],
   "source": [
    "sym.solve(I2-5*(1-I2),b)"
   ]
  },
  {
   "cell_type": "markdown",
   "id": "b90ed7a7-8949-4c9c-ad90-38263cb4bd5a",
   "metadata": {},
   "source": [
    "#### Part (c) given integrals"
   ]
  },
  {
   "cell_type": "code",
   "execution_count": 8,
   "id": "031bf453-9dea-4890-905e-3a0bb9074493",
   "metadata": {},
   "outputs": [
    {
     "data": {
      "image/png": "[encoded data removed]",
      "text/latex": [
       "$\\displaystyle \\left( - \\frac{5}{12}, \\  \\frac{25}{6}\\right)$"
      ],
      "text/plain": [
       "(-5/12, 25/6)"
      ]
     },
     "execution_count": 8,
     "metadata": {},
     "output_type": "execute_result"
    }
   ],
   "source": [
    "I1 = sym.integrate(x * 𝜓1**2,(x,-a,0)).subs({a:5,b:sym.Rational(3,10)})\n",
    "I2 = sym.integrate(x * 𝜓2**2,(x,0,sym.oo)).subs({a:5,b:sym.Rational(3,10)})\n",
    "(I1, I2)"
   ]
  },
  {
   "cell_type": "code",
   "execution_count": 9,
   "id": "86cc80d7-f5e5-44ca-a1fa-4192c4bd8d4e",
   "metadata": {},
   "outputs": [
    {
     "data": {
      "image/png": "[encoded data removed]",
      "text/latex": [
       "$\\displaystyle \\frac{15}{4}$"
      ],
      "text/plain": [
       "15/4"
      ]
     },
     "execution_count": 9,
     "metadata": {},
     "output_type": "execute_result"
    }
   ],
   "source": [
    "mx = I1+I2\n",
    "mx"
   ]
  },
  {
   "cell_type": "code",
   "execution_count": 10,
   "id": "f6dff73b-f60b-4a38-9bd8-185fdb754767",
   "metadata": {},
   "outputs": [
    {
     "data": {
      "image/png": "[encoded data removed]",
      "text/latex": [
       "$\\displaystyle \\left( 0, \\  0\\right)$"
      ],
      "text/plain": [
       "(0, 0)"
      ]
     },
     "execution_count": 10,
     "metadata": {},
     "output_type": "execute_result"
    }
   ],
   "source": [
    "I1 = - h * sym.I * sym.integrate(𝜓1*sym.diff(𝜓1,x),(x,-a,0))\n",
    "I2 = - h * sym.I * sym.integrate(𝜓2*sym.diff(𝜓2,x),(x,0,sym.oo))\n",
    "(I1, I2)"
   ]
  },
  {
   "cell_type": "code",
   "execution_count": 11,
   "id": "18cc4ac4-133b-4a73-a33f-307357614fdc",
   "metadata": {},
   "outputs": [],
   "source": [
    "mp = 0"
   ]
  },
  {
   "cell_type": "markdown",
   "id": "b7f2ef93-d14d-4c53-9d26-dc550803eda3",
   "metadata": {},
   "source": [
    "#### Part (c) integrals"
   ]
  },
  {
   "cell_type": "code",
   "execution_count": 12,
   "id": "8ac21285-9c72-445c-b567-8972370065c1",
   "metadata": {},
   "outputs": [
    {
     "data": {
      "image/png": "[encoded data removed]",
      "text/latex": [
       "$\\displaystyle \\left( \\frac{25}{21}, \\  \\frac{250}{9}\\right)$"
      ],
      "text/plain": [
       "⎛25       ⎞\n",
       "⎜──, 250/9⎟\n",
       "⎝21       ⎠"
      ]
     },
     "execution_count": 12,
     "metadata": {},
     "output_type": "execute_result"
    }
   ],
   "source": [
    "I1 = sym.integrate(x**2 * 𝜓1**2,(x,-a,0)).subs({a:5,b:sym.Rational(3,10)})\n",
    "I2 = sym.integrate(x**2 * 𝜓2**2,(x,0,sym.oo)).subs({a:5,b:sym.Rational(3,10)})\n",
    "(I1, I2)"
   ]
  },
  {
   "cell_type": "code",
   "execution_count": 13,
   "id": "84ec4948-61de-4288-bdb2-562232c247f3",
   "metadata": {},
   "outputs": [
    {
     "data": {
      "image/png": "[encoded data removed]",
      "text/latex": [
       "$\\displaystyle \\frac{1825}{63}$"
      ],
      "text/plain": [
       "1825\n",
       "────\n",
       " 63 "
      ]
     },
     "execution_count": 13,
     "metadata": {},
     "output_type": "execute_result"
    }
   ],
   "source": [
    "mx2 = I1+I2\n",
    "mx2"
   ]
  },
  {
   "cell_type": "code",
   "execution_count": 14,
   "id": "8a158243-aa2b-43ec-a9de-297841bc7510",
   "metadata": {},
   "outputs": [
    {
     "data": {
      "image/png": "[encoded data removed]",
      "text/latex": [
       "$\\displaystyle \\left( \\frac{\\hbar^{2}}{15}, \\  \\frac{3 \\hbar^{2}}{40}\\right)$"
      ],
      "text/plain": [
       "⎛ 2     2⎞\n",
       "⎜h̅   3⋅h̅ ⎟\n",
       "⎜──, ────⎟\n",
       "⎝15   40 ⎠"
      ]
     },
     "execution_count": 14,
     "metadata": {},
     "output_type": "execute_result"
    }
   ],
   "source": [
    "I1 = - h**2 * sym.integrate(𝜓1*sym.diff(𝜓1,x,x),(x,-a,0)).subs({a:5,b:sym.Rational(3,10)})\n",
    "I2 = - h**2 * sym.integrate(𝜓2*sym.diff(𝜓2,x,x),(x,0,sym.oo)).subs({a:5,b:sym.Rational(3,10)})\n",
    "(I1, I2)"
   ]
  },
  {
   "cell_type": "code",
   "execution_count": 15,
   "id": "7d34b522-ac9a-4807-b5c3-d354a074b039",
   "metadata": {},
   "outputs": [
    {
     "data": {
      "image/png": "[encoded data removed]",
      "text/latex": [
       "$\\displaystyle \\frac{17 \\hbar^{2}}{120}$"
      ],
      "text/plain": [
       "    2\n",
       "17⋅h̅ \n",
       "─────\n",
       " 120 "
      ]
     },
     "execution_count": 15,
     "metadata": {},
     "output_type": "execute_result"
    }
   ],
   "source": [
    "mp2 = (I1+I2)\n",
    "mp2"
   ]
  },
  {
   "cell_type": "markdown",
   "id": "eb1df4a9-695e-4954-ae66-1693f0168deb",
   "metadata": {},
   "source": [
    "#### Part (d) computations"
   ]
  },
  {
   "cell_type": "code",
   "execution_count": 16,
   "id": "83d4352c-5577-46ae-84d3-fd7ae2b29199",
   "metadata": {},
   "outputs": [
    {
     "data": {
      "image/png": "[encoded data removed]",
      "text/latex": [
       "$\\displaystyle 1.453 \\hbar$"
      ],
      "text/plain": [
       "1.453⋅h̅"
      ]
     },
     "execution_count": 16,
     "metadata": {},
     "output_type": "execute_result"
    }
   ],
   "source": [
    "sx = sym.sqrt(mx2 - mx**2)\n",
    "sp = sym.sqrt(mp2 - mp**2)\n",
    "(sx * sp).evalf(4)"
   ]
  },
  {
   "cell_type": "markdown",
   "id": "a1214669",
   "metadata": {},
   "source": [
    "## Question 2"
   ]
  },
  {
   "cell_type": "markdown",
   "id": "7b6d47b3-1f46-474b-8d04-1a7d00b9fa88",
   "metadata": {},
   "source": [
    "#### Part (a) integral"
   ]
  },
  {
   "cell_type": "code",
   "execution_count": 17,
   "id": "f336bd3e-9849-4b51-a35f-cfe282e0bcfe",
   "metadata": {},
   "outputs": [],
   "source": [
    "n = sym.symbols(\"n\", positive = True, integer = True)\n",
    "x = sym.symbols(\"x\", real = True)"
   ]
  },
  {
   "cell_type": "code",
   "execution_count": 18,
   "id": "ca7c3c77-df49-4eea-815d-9e59d2144721",
   "metadata": {},
   "outputs": [
    {
     "data": {
      "image/png": "[encoded data removed]",
      "text/latex": [
       "$\\displaystyle \\frac{\\sqrt{2} \\sin{\\left(n x \\right)}}{\\sqrt{\\pi}}$"
      ],
      "text/plain": [
       "√2⋅sin(n⋅x)\n",
       "───────────\n",
       "     √π    "
      ]
     },
     "execution_count": 18,
     "metadata": {},
     "output_type": "execute_result"
    }
   ],
   "source": [
    "# stationary states\n",
    "𝜓n = sym.sqrt(2/sym.pi) * sym.sin(n*x)\n",
    "𝜓n"
   ]
  },
  {
   "cell_type": "code",
   "execution_count": 19,
   "id": "216424e4",
   "metadata": {},
   "outputs": [
    {
     "data": {
      "image/png": "[encoded data removed]",
      "text/latex": [
       "$\\displaystyle \\frac{2 \\sqrt{6} \\sin^{2}{\\left(2 x \\right)}}{3 \\sqrt{\\pi}}$"
      ],
      "text/plain": [
       "        2     \n",
       "2⋅√6⋅sin (2⋅x)\n",
       "──────────────\n",
       "     3⋅√π     "
      ]
     },
     "execution_count": 19,
     "metadata": {},
     "output_type": "execute_result"
    }
   ],
   "source": [
    "# initial state\n",
    "Ψ0 = sym.sqrt(8/(3*sym.pi)) * sym.sin(2*x)**2\n",
    "Ψ0"
   ]
  },
  {
   "cell_type": "code",
   "execution_count": 20,
   "id": "0c38818d-606b-4278-aee0-595a60fb5354",
   "metadata": {},
   "outputs": [
    {
     "data": {
      "image/png": "[encoded data removed]",
      "text/latex": [
       "$\\displaystyle \\begin{cases} \\frac{32 \\sqrt{3} \\left(\\left(-1\\right)^{n} - 1\\right)}{3 \\pi n \\left(n^{2} - 16\\right)} & \\text{for}\\: n > 4 \\vee n < 4 \\\\0 & \\text{otherwise} \\end{cases}$"
      ],
      "text/plain": [
       "⎧      ⎛    n    ⎞                   \n",
       "⎪32⋅√3⋅⎝(-1)  - 1⎠                   \n",
       "⎪─────────────────  for n > 4 ∨ n < 4\n",
       "⎨       ⎛ 2     ⎞                    \n",
       "⎪ 3⋅π⋅n⋅⎝n  - 16⎠                    \n",
       "⎪                                    \n",
       "⎩        0              otherwise    "
      ]
     },
     "execution_count": 20,
     "metadata": {},
     "output_type": "execute_result"
    }
   ],
   "source": [
    "# coefficients\n",
    "cn = sym.integrate( 𝜓n*Ψ0, (x, 0, sym.pi)).simplify()\n",
    "cn"
   ]
  },
  {
   "cell_type": "code",
   "execution_count": 21,
   "id": "a6d42c90-0a00-457b-9ae0-8c79c5ebd6c1",
   "metadata": {},
   "outputs": [
    {
     "data": {
      "image/png": "[encoded data removed]",
      "text/latex": [
       "$\\displaystyle 0$"
      ],
      "text/plain": [
       "0"
      ]
     },
     "execution_count": 21,
     "metadata": {},
     "output_type": "execute_result"
    }
   ],
   "source": [
    "# check n=4 case\n",
    "sym.integrate( (𝜓n*Ψ0).subs({n:4}), (x, 0, sym.pi)).simplify()"
   ]
  },
  {
   "cell_type": "markdown",
   "id": "a2bf60d8-62eb-4f6a-91f5-0542177facbc",
   "metadata": {},
   "source": [
    "#### Part (b) probability computation"
   ]
  },
  {
   "cell_type": "code",
   "execution_count": 22,
   "id": "8b62b77d-638c-4885-b105-4c7b66fadb07",
   "metadata": {},
   "outputs": [
    {
     "data": {
      "image/png": "[encoded data removed]",
      "text/latex": [
       "$\\displaystyle 0.07148$"
      ],
      "text/plain": [
       "0.07148"
      ]
     },
     "execution_count": 22,
     "metadata": {},
     "output_type": "execute_result"
    }
   ],
   "source": [
    "P = 1 - (cn**2).subs({n:1}) - (cn**2).subs({n:3})\n",
    "P.evalf(4)"
   ]
  },
  {
   "cell_type": "markdown",
   "id": "35940c51-6a26-4ddf-9bdd-7e29e65e5bb8",
   "metadata": {},
   "source": [
    "#### Part (c) energy expectation value computation"
   ]
  },
  {
   "cell_type": "code",
   "execution_count": 23,
   "id": "ba1ddb05-96e3-445d-a883-d82fb1fd84ad",
   "metadata": {},
   "outputs": [
    {
     "data": {
      "image/png": "[encoded data removed]",
      "text/latex": [
       "$\\displaystyle \\frac{16}{3}$"
      ],
      "text/plain": [
       "16/3"
      ]
     },
     "execution_count": 23,
     "metadata": {},
     "output_type": "execute_result"
    }
   ],
   "source": [
    "64**2/(3*sym.pi**2) * sym.Sum((1/((2*n-1)**2-16))**2,(n,1,sym.oo)).doit()"
   ]
  },
  {
   "cell_type": "markdown",
   "id": "7f45d805-2ad8-4b84-88e2-f9c8d262d694",
   "metadata": {},
   "source": [
    "## Question 4"
   ]
  },
  {
   "cell_type": "code",
   "execution_count": 24,
   "id": "20777222-672f-4599-b62a-e91beaf1d6a0",
   "metadata": {},
   "outputs": [
    {
     "data": {
      "image/png": "[encoded data removed]",
      "text/latex": [
       "$\\displaystyle \\left( 4.85699403316493 \\cdot 10^{18}, \\  3.43441341703352 \\cdot 10^{18}\\right)$"
      ],
      "text/plain": [
       "(4.85699403316493e+18, 3.43441341703352e+18)"
      ]
     },
     "execution_count": 24,
     "metadata": {},
     "output_type": "execute_result"
    }
   ],
   "source": [
    "# numerics\n",
    "E = 10\n",
    "V0 = 5\n",
    "w = 4.75*10**18\n",
    "a = 10*10**(-10) \n",
    "m = 0.511*10**6\n",
    "h = 6.582*10**(-16)\n",
    "\n",
    "k = sym.sqrt(2*m*E) / h\n",
    "l = sym.sqrt(2*m*(E-V0)) / h\n",
    "\n",
    "(k, l)"
   ]
  },
  {
   "cell_type": "code",
   "execution_count": 25,
   "id": "8f0545be-67f5-482d-acc1-943ec9ea74c5",
   "metadata": {},
   "outputs": [
    {
     "data": {
      "image/png": "[encoded data removed]",
      "text/latex": [
       "$\\displaystyle \\left( 0.17157287525381 e^{9713988066.32986 i}, \\  0.977971141732037 i\\right)$"
      ],
      "text/plain": [
       "⎛                  9713988066.32986⋅ⅈ                     ⎞\n",
       "⎝0.17157287525381⋅ℯ                  , 0.977971141732037⋅ⅈ⎠"
      ]
     },
     "execution_count": 25,
     "metadata": {},
     "output_type": "execute_result"
    }
   ],
   "source": [
    "α_value = sym.exp(2*sym.I*a*k)*(k-l)/(k+l)\n",
    "β_value = sym.I*w/k\n",
    "\n",
    "(α_value, β_value)"
   ]
  },
  {
   "cell_type": "code",
   "execution_count": 26,
   "id": "cfb4d7af",
   "metadata": {},
   "outputs": [],
   "source": [
    "A, B, C, D, α, β = sym.symbols(\"A B C D alpha beta\", positive = True, real = True)"
   ]
  },
  {
   "cell_type": "code",
   "execution_count": 27,
   "id": "4d10ec58-dc5f-4431-9b1c-774990adf3d5",
   "metadata": {},
   "outputs": [
    {
     "data": {
      "image/png": "[encoded data removed]",
      "text/latex": [
       "$\\displaystyle \\left[ \\left\\{ A : \\frac{- D \\alpha \\beta - D \\beta + 2 D}{2 \\alpha}, \\  B : \\frac{D \\alpha \\beta + 2 D \\alpha + D \\beta}{2 \\alpha}, \\  C : \\frac{D}{\\alpha}\\right\\}\\right]$"
      ],
      "text/plain": [
       "⎡⎧   -D⋅α⋅β - D⋅β + 2⋅D     D⋅α⋅β + 2⋅D⋅α + D⋅β     D⎫⎤\n",
       "⎢⎨A: ──────────────────, B: ───────────────────, C: ─⎬⎥\n",
       "⎣⎩          2⋅α                     2⋅α             α⎭⎦"
      ]
     },
     "execution_count": 27,
     "metadata": {},
     "output_type": "execute_result"
    }
   ],
   "source": [
    "sol = sym.solve([(A+B)-(C+D), C-D-A+B-β*(A+B), D-α*C], (A, B, C), dict=True)\n",
    "sol"
   ]
  },
  {
   "cell_type": "code",
   "execution_count": 28,
   "id": "a9846e99-a036-4899-9aae-5e8b5862a50b",
   "metadata": {},
   "outputs": [
    {
     "data": {
      "image/png": "[encoded data removed]",
      "text/latex": [
       "$\\displaystyle 0.1944$"
      ],
      "text/plain": [
       "0.1944"
      ]
     },
     "execution_count": 28,
     "metadata": {},
     "output_type": "execute_result"
    }
   ],
   "source": [
    "ratio = (B/A).subs(sol[0]).subs({α:α_value,β:β_value}).evalf(4)\n",
    "abs(ratio)**2"
   ]
  },
  {
   "cell_type": "markdown",
   "id": "b35acf26-13f3-47ab-ba98-d628f1a3fd70",
   "metadata": {},
   "source": [
    "---"
   ]
  }
 ],
 "metadata": {
  "hide_input": false,
  "kernelspec": {
   "display_name": "Python 3 (ipykernel)",
   "language": "python",
   "name": "python3"
  },
  "language_info": {
   "codemirror_mode": {
    "name": "ipython",
    "version": 3
   },
   "file_extension": ".py",
   "mimetype": "text/x-python",
   "name": "python",
   "nbconvert_exporter": "python",
   "pygments_lexer": "ipython3",
   "version": "3.11.7"
  },
  "latex_envs": {
   "LaTeX_envs_menu_present": true,
   "autoclose": false,
   "autocomplete": true,
   "bibliofile": "biblio.bib",
   "cite_by": "apalike",
   "current_citInitial": 1,
   "eqLabelWithNumbers": true,
   "eqNumInitial": 1,
   "hotkeys": {
    "equation": "Ctrl-E",
    "itemize": "Ctrl-I"
   },
   "labels_anchors": false,
   "latex_user_defs": false,
   "report_style_numbering": false,
   "user_envs_cfg": false
  }
 },
 "nbformat": 4,
 "nbformat_minor": 5
}
