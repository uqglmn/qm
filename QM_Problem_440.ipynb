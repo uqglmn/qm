{
 "cells": [
  {
   "cell_type": "markdown",
   "id": "80f26fd5",
   "metadata": {},
   "source": [
    "## Unit 4 - Quantum Mechanics in 3D"
   ]
  },
  {
   "cell_type": "markdown",
   "id": "bcb98cf0",
   "metadata": {},
   "source": [
    "<a href=\"https://colab.research.google.com/github/uqglmn/qm/blob/main/QM_Problem_440.ipynb\" target=\"_parent\"><img src=\"https://colab.research.google.com/assets/colab-badge.svg\" alt=\"Open In Colab\"/></a>"
   ]
  },
  {
   "cell_type": "markdown",
   "id": "73b1d67b",
   "metadata": {},
   "source": [
    "### Problem 4.40"
   ]
  },
  {
   "cell_type": "markdown",
   "id": "64af21de",
   "metadata": {},
   "source": [
    "**(a)** A particle of spin 1 and a particle of spin 2 are at rest in a configuration such that the total spin is 3, and its $z$ component is $1$. If you measured the $z$-component of the angular momentum of the spin–2 particle, what values might you get, and what is the probability of each one? \n",
    "\n",
    "**(b)** An electron with spin down is in the state $\\psi_{510}$ of the hydrogen atom. If you could measure the total angular momentum squared of the electron alone (not including the proton spin), what values might you get, and what is the probability of each?"
   ]
  },
  {
   "cell_type": "markdown",
   "id": "d47d37bd",
   "metadata": {},
   "source": [
    "#### Solution to (a)"
   ]
  },
  {
   "cell_type": "markdown",
   "id": "c4541f0a",
   "metadata": {},
   "source": [
    "The first particle has $s_1 = 1$ and $m_1$ is unknown. We write this state as $|s_1,m_1\\rangle = |1,m_1\\rangle$.\n",
    "\n",
    "The second particle has $s_2 = 2$ and $m_2$ is unknown. We write this state as $|s_2,m_2\\rangle = |2,m_2\\rangle$.\n",
    "\n",
    "The total spin is $s=3$ and $m = 1$. We write this state as $|s,m\\rangle = |3,1\\rangle$.\n",
    "\n",
    "Equation (4.183) implies\n",
    "$$\n",
    "|3,1\\rangle = \\sum_{m_1 + m_2 = m} C^{s_1 s_2 s}_{m_1 m_2 m} \\, |s_1,m_1\\rangle \\otimes |s_2, m_2\\rangle = \\sum_{m_1 + m_2 = 1} C^{1,2,3}_{m_1,m_2,1} \\, |1,m_1\\rangle \\otimes |2, m_2\\rangle\n",
    "$$\n",
    "\n",
    "where $C^{s_1 s_2 s}_{m_1 m_2 m}$ are the Clebsch–Gordan coefficients.\n",
    "\n",
    "The possible values of $m_1$ and $m_2$ giving $m_1 + m_2 = 1$ are:\n",
    "\n",
    "- $m_1=-1$ and $m_2 = 2$ \n",
    "\n",
    "- $m_1=0$ and $m_2 = 1$ \n",
    "\n",
    "- $m_1=1$ and $m_2 = 0$ \n",
    "\n",
    "Thus we need to find $C^{1,2,3}_{-1,2,1}$, $C^{1,2,3}_{0,1,1}$, and $C^{1,2,3}_{1,0,1}$. We ask SymPy for help:\n",
    "```python\n",
    "class sympy.physics.quantum.cg.CG(s1, m1, s2, m2, s, m3)\n",
    "```\n",
    "Click [here](https://docs.sympy.org/latest/modules/physics/quantum/cg.html) for documentation.\n",
    "\n",
    "Recall that measuring $S_z$ on the state $|s_2,m_2\\rangle$ yields the value $\\hbar m_2$. Thus we may measure $2\\hbar$, $\\hbar$, and $0$"
   ]
  },
  {
   "cell_type": "code",
   "execution_count": 1,
   "id": "ce05b528",
   "metadata": {},
   "outputs": [],
   "source": [
    "import sympy as sym                     \n",
    "from sympy.physics.quantum.cg import CG  \n",
    "sym.init_printing(use_unicode=True)"
   ]
  },
  {
   "cell_type": "code",
   "execution_count": 2,
   "id": "dfe18a62",
   "metadata": {},
   "outputs": [
    {
     "data": {
      "image/png": "[encoded data removed]",
      "text/latex": [
       "$\\displaystyle \\left( C^{3,1}_{1,-1,2,2}, \\  \\frac{\\sqrt{15}}{15}\\right)$"
      ],
      "text/plain": [
       "⎛  3,1      √15⎞\n",
       "⎜C        , ───⎟\n",
       "⎝ 1,-1,2,2   15⎠"
      ]
     },
     "execution_count": 2,
     "metadata": {},
     "output_type": "execute_result"
    }
   ],
   "source": [
    "cg = CG(1,-1,2,2,3,1)  # the CG symbol and its numerical value\n",
    "(cg, cg.doit())       "
   ]
  },
  {
   "cell_type": "code",
   "execution_count": 3,
   "id": "3d46d6dd",
   "metadata": {},
   "outputs": [
    {
     "name": "stdout",
     "output_type": "stream",
     "text": [
      "The probability to measure 2ℏ on the state with s_2 = 2 is:\n"
     ]
    },
    {
     "data": {
      "image/png": "[encoded data removed]",
      "text/latex": [
       "$\\displaystyle \\frac{1}{15}$"
      ],
      "text/plain": [
       "1/15"
      ]
     },
     "execution_count": 3,
     "metadata": {},
     "output_type": "execute_result"
    }
   ],
   "source": [
    "print(\"The probability to measure 2ℏ on the state with s_2 = 2 is:\")\n",
    "cg  = CG(1,-1,2,2,3,1).doit()\n",
    "P2h = sym.Abs(cg)**2\n",
    "P2h"
   ]
  },
  {
   "cell_type": "code",
   "execution_count": 4,
   "id": "36ab0b2a",
   "metadata": {},
   "outputs": [
    {
     "name": "stdout",
     "output_type": "stream",
     "text": [
      "The probability to measure 1ℏ on the state with s_2 = 2 is:\n"
     ]
    },
    {
     "data": {
      "image/png": "[encoded data removed]",
      "text/latex": [
       "$\\displaystyle \\frac{8}{15}$"
      ],
      "text/plain": [
       "8/15"
      ]
     },
     "execution_count": 4,
     "metadata": {},
     "output_type": "execute_result"
    }
   ],
   "source": [
    "print(\"The probability to measure 1ℏ on the state with s_2 = 2 is:\")\n",
    "cg  = CG(1,0,2,1,3,1).doit()\n",
    "P1h = sym.Abs(cg)**2\n",
    "P1h"
   ]
  },
  {
   "cell_type": "code",
   "execution_count": 5,
   "id": "86663bf7",
   "metadata": {},
   "outputs": [
    {
     "name": "stdout",
     "output_type": "stream",
     "text": [
      "The probability to measure 0 on the state with s_2 = 2 is:\n"
     ]
    },
    {
     "data": {
      "image/png": "[encoded data removed]",
      "text/latex": [
       "$\\displaystyle \\frac{2}{5}$"
      ],
      "text/plain": [
       "2/5"
      ]
     },
     "execution_count": 5,
     "metadata": {},
     "output_type": "execute_result"
    }
   ],
   "source": [
    "print(\"The probability to measure 0 on the state with s_2 = 2 is:\")\n",
    "cg  = CG(1,1,2,0,3,1).doit()\n",
    "P0h = sym.Abs(cg)**2\n",
    "P0h"
   ]
  },
  {
   "cell_type": "code",
   "execution_count": 6,
   "id": "204f7172",
   "metadata": {},
   "outputs": [
    {
     "name": "stdout",
     "output_type": "stream",
     "text": [
      "Sanity check:\n"
     ]
    },
    {
     "data": {
      "image/png": "[encoded data removed]",
      "text/latex": [
       "$\\displaystyle 1$"
      ],
      "text/plain": [
       "1"
      ]
     },
     "execution_count": 6,
     "metadata": {},
     "output_type": "execute_result"
    }
   ],
   "source": [
    "print(\"Sanity check:\")\n",
    "P2h + P1h + P0h"
   ]
  },
  {
   "cell_type": "markdown",
   "id": "249d9142",
   "metadata": {},
   "source": [
    "#### Solution to (b)"
   ]
  },
  {
   "cell_type": "markdown",
   "id": "0414db11",
   "metadata": {},
   "source": [
    "The electron is in the state $\\psi_{510}$ and has spin down:\n",
    "\n",
    "- Its angular momentum quantum numbers are $\\ell=1$ and $m_\\ell = 0$. In Dirac notation, it is $|1,0\\rangle$.<br>\n",
    "\n",
    "- Its spin quantum numbers are $s=1/2$ and $m_s = -1/2$. In Dirac notation, it is $|1/2,-1/2\\rangle$.\n",
    "\n",
    "The total angular momentum of the electron is $\\vec j = \\vec \\ell + \\vec s$. The possible $j$ values are from $|\\ell-s|$ to $\\ell+s$ giving $j = 1/2$ and $j = 3/2$. \n",
    "\n",
    "The $z$ component of $\\vec j$ is $m = m_\\ell + m_s = 0 - 1/2 = -1/2$.\n",
    "\n",
    "Formula (4.184) implies\n",
    "\n",
    "$$\n",
    "|1,0\\rangle \\otimes |1/2,-1/2\\rangle = \\sum_{j} C^{\\ell s j}_{m_\\ell m_s m} |j,m\\rangle = C^{1,1/2,1/2}_{0,-1/2,-1/2} |1/2,-1/2\\rangle + C^{1,1/2,3/2}_{0,-1/2,-1/2} |3/2,-1/2\\rangle\n",
    "$$\n",
    "\n",
    "We need to find $C^{1,1/2,1/2}_{0,-1/2,-1/2}$ and $C^{1,1/2,3/2}_{0,-1/2,-1/2}$.\n",
    "\n",
    "Recall that measuring the total angular momentum squared $j^2$ on the state $|j,m\\rangle$ yields the value $\\hbar^2 j(j+1)$. Thus we may measure $3/4\\hbar^2$ and $15/4\\hbar^2$."
   ]
  },
  {
   "cell_type": "code",
   "execution_count": 7,
   "id": "9dfed5c6",
   "metadata": {},
   "outputs": [
    {
     "name": "stdout",
     "output_type": "stream",
     "text": [
      "The probability to measure 3/4 ℏ^2 on the state 𝜓510 is:\n"
     ]
    },
    {
     "data": {
      "image/png": "[encoded data removed]",
      "text/latex": [
       "$\\displaystyle 0.333$"
      ],
      "text/plain": [
       "0.333"
      ]
     },
     "execution_count": 7,
     "metadata": {},
     "output_type": "execute_result"
    }
   ],
   "source": [
    "print(\"The probability to measure 3/4 ℏ^2 on the state 𝜓510 is:\")\n",
    "cg = CG(1,0,1/2,-1/2,1/2,-1/2).doit()\n",
    "P1 = (sym.Abs(cg)**2).evalf(3)\n",
    "P1"
   ]
  },
  {
   "cell_type": "code",
   "execution_count": 8,
   "id": "541bb02f",
   "metadata": {},
   "outputs": [
    {
     "name": "stdout",
     "output_type": "stream",
     "text": [
      "The probability to measure 15/4 ℏ^2 on the state 𝜓510 is:\n"
     ]
    },
    {
     "data": {
      "image/png": "[encoded data removed]",
      "text/latex": [
       "$\\displaystyle 0.667$"
      ],
      "text/plain": [
       "0.667"
      ]
     },
     "execution_count": 8,
     "metadata": {},
     "output_type": "execute_result"
    }
   ],
   "source": [
    "print(\"The probability to measure 15/4 ℏ^2 on the state 𝜓510 is:\")\n",
    "cg = CG(1,0,1/2,-1/2,3/2,-1/2).doit()\n",
    "P2 = (sym.Abs(cg)**2).evalf(3)\n",
    "P2"
   ]
  },
  {
   "cell_type": "code",
   "execution_count": 9,
   "id": "7b8ad4ac",
   "metadata": {},
   "outputs": [
    {
     "name": "stdout",
     "output_type": "stream",
     "text": [
      "Sanity check:\n"
     ]
    },
    {
     "data": {
      "image/png": "[encoded data removed]",
      "text/latex": [
       "$\\displaystyle 1.0$"
      ],
      "text/plain": [
       "1.00"
      ]
     },
     "execution_count": 9,
     "metadata": {},
     "output_type": "execute_result"
    }
   ],
   "source": [
    "print(\"Sanity check:\")\n",
    "P1 + P2"
   ]
  },
  {
   "cell_type": "markdown",
   "id": "6c89ca36",
   "metadata": {},
   "source": [
    "---"
   ]
  }
 ],
 "metadata": {
  "kernelspec": {
   "display_name": "Python 3 (ipykernel)",
   "language": "python",
   "name": "python3"
  },
  "language_info": {
   "codemirror_mode": {
    "name": "ipython",
    "version": 3
   },
   "file_extension": ".py",
   "mimetype": "text/x-python",
   "name": "python",
   "nbconvert_exporter": "python",
   "pygments_lexer": "ipython3",
   "version": "3.11.7"
  },
  "latex_envs": {
   "LaTeX_envs_menu_present": true,
   "autoclose": false,
   "autocomplete": true,
   "bibliofile": "biblio.bib",
   "cite_by": "apalike",
   "current_citInitial": 1,
   "eqLabelWithNumbers": true,
   "eqNumInitial": 1,
   "hotkeys": {
    "equation": "Ctrl-E",
    "itemize": "Ctrl-I"
   },
   "labels_anchors": false,
   "latex_user_defs": false,
   "report_style_numbering": false,
   "user_envs_cfg": false
  }
 },
 "nbformat": 4,
 "nbformat_minor": 5
}
