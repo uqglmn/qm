{
 "cells": [
  {
   "cell_type": "markdown",
   "id": "f6a5cea6",
   "metadata": {},
   "source": [
    "## Unit 2 - Time-Independent Schrödinger Equation"
   ]
  },
  {
   "cell_type": "markdown",
   "id": "3985729a",
   "metadata": {},
   "source": [
    "<a href=\"https://colab.research.google.com/github/uqglmn/qm/blob/main/QM_Problem_210.ipynb\" target=\"_parent\"><img src=\"https://colab.research.google.com/assets/colab-badge.svg\" alt=\"Open In Colab\"/></a>"
   ]
  },
  {
   "cell_type": "markdown",
   "id": "86e90836",
   "metadata": {},
   "source": [
    "### Problem 2.10\n",
    "\n",
    "Consider TISE for harmonic oscillator potential.\n",
    "\n",
    "(a) Construct $\\psi_2(x)$.\n",
    "\n",
    "(b) Sketch $\\psi_0(x)$, $\\psi_1(x)$, and $\\psi_2(x)$.\n",
    "\n",
    "(c) Check the orthogonality of $\\psi_0(x)$, $\\psi_1(x)$, and $\\psi_2(x)$, by explicit integration. "
   ]
  },
  {
   "cell_type": "markdown",
   "id": "d6624670",
   "metadata": {},
   "source": [
    "### Solution"
   ]
  },
  {
   "cell_type": "markdown",
   "id": "b6f53522",
   "metadata": {},
   "source": [
    "#### Load SymPy and variables"
   ]
  },
  {
   "cell_type": "code",
   "execution_count": 1,
   "id": "a04ab569",
   "metadata": {},
   "outputs": [],
   "source": [
    "import sympy as sym"
   ]
  },
  {
   "cell_type": "code",
   "execution_count": 2,
   "id": "8f327cb2",
   "metadata": {},
   "outputs": [],
   "source": [
    "m, h, w, A, a = sym.symbols(\"m, hbar, w, A, a\", positive = True, real = True)\n",
    "x = sym.symbols(\"x\", real = True)"
   ]
  },
  {
   "cell_type": "code",
   "execution_count": 3,
   "id": "57dbed8c",
   "metadata": {},
   "outputs": [],
   "source": [
    "sym.init_printing(use_unicode=True)"
   ]
  },
  {
   "cell_type": "markdown",
   "id": "1f010918",
   "metadata": {},
   "source": [
    "#### Solution to (a)\n",
    "\n",
    "Stationary solutions:\n",
    "$$\n",
    "\\psi_n(x) = \\frac{1}{\\sqrt{n!}} (\\hat a_+)^n \\psi_0(x) \\qquad \\psi_0(x) = \\bigg( \\frac{m\\omega}{\\pi \\hbar}\\bigg)^{1/4} \\exp\\bigg( -\\frac{m\\omega}{2\\hbar } x^2 \\bigg)\n",
    "$$\n",
    "Ladder operators:\n",
    "$$\n",
    "\\hat a_\\pm \n",
    "= \\frac{1}{\\sqrt{2\\hbar m \\omega}} (\\mp i \\hat p + m \\omega x) \n",
    "= \\frac{1}{\\sqrt{2\\hbar m \\omega}} (\\mp \\hbar \\partial_x + m \\omega x) \n",
    "$$\n",
    "Short-hand notation:\n",
    "$$\n",
    "A = \\bigg( \\frac{m\\omega}{\\pi \\hbar}\\bigg)^{1/4} \\qquad a = \\frac{1}{\\sqrt{2\\hbar m \\omega}}\n",
    "$$"
   ]
  },
  {
   "cell_type": "code",
   "execution_count": 4,
   "id": "791f610f",
   "metadata": {},
   "outputs": [],
   "source": [
    "# the ground state\n",
    "\n",
    "𝜓0 = A * sym.exp( -(m*w)/(2*h)*(x**2) ) "
   ]
  },
  {
   "cell_type": "code",
   "execution_count": 5,
   "id": "646bf1d7",
   "metadata": {},
   "outputs": [],
   "source": [
    "# ladder-up operator\n",
    "\n",
    "def a_plus(𝜓):\n",
    "    return sym.simplify( a*(-h*sym.diff(𝜓,x,1) + m*w*x*𝜓) )"
   ]
  },
  {
   "cell_type": "code",
   "execution_count": 6,
   "id": "1b72d48f",
   "metadata": {},
   "outputs": [
    {
     "data": {
      "image/png": "[encoded data removed]",
      "text/latex": [
       "$\\displaystyle 2 A a m w x e^{- \\frac{m w x^{2}}{2 \\hbar}}$"
      ],
      "text/plain": [
       "                   2 \n",
       "             -m⋅w⋅x  \n",
       "             ────────\n",
       "               2⋅h̅  \n",
       "2⋅A⋅a⋅m⋅w⋅x⋅ℯ        "
      ]
     },
     "execution_count": 6,
     "metadata": {},
     "output_type": "execute_result"
    }
   ],
   "source": [
    "# the first excited state\n",
    "\n",
    "𝜓1 = a_plus(𝜓0)\n",
    "𝜓1"
   ]
  },
  {
   "cell_type": "code",
   "execution_count": 7,
   "id": "80f6fcb6",
   "metadata": {},
   "outputs": [
    {
     "data": {
      "image/png": "[encoded data removed]",
      "text/latex": [
       "$\\displaystyle \\sqrt{2} A a^{2} m w \\left(- \\hbar + 2 m w x^{2}\\right) e^{- \\frac{m w x^{2}}{2 \\hbar}}$"
      ],
      "text/plain": [
       "                                   2 \n",
       "                             -m⋅w⋅x  \n",
       "                             ────────\n",
       "      2     ⎛            2⎞    2⋅h̅  \n",
       "√2⋅A⋅a ⋅m⋅w⋅⎝-h̅ + 2⋅m⋅w⋅x ⎠⋅ℯ        "
      ]
     },
     "execution_count": 7,
     "metadata": {},
     "output_type": "execute_result"
    }
   ],
   "source": [
    "# the second excited state\n",
    "\n",
    "𝜓2 = 1/sym.sqrt(2) * a_plus(𝜓1)\n",
    "𝜓2"
   ]
  },
  {
   "cell_type": "markdown",
   "id": "30fed9d5",
   "metadata": {},
   "source": [
    "#### Solution to (b)"
   ]
  },
  {
   "cell_type": "code",
   "execution_count": 8,
   "id": "f072a216",
   "metadata": {},
   "outputs": [],
   "source": [
    "# choose numeric values for all parameters \n",
    "\n",
    "nm, nh, nw = 1, 1, 1\n",
    "nA = ((nm*nw)/(sym.pi*nh))**(1/4)\n",
    "na = (2*nh*nm*nw)**(-1/2)\n",
    "\n",
    "n𝜓0 = 𝜓0.subs({m:nm, h:nh, w:nw, A:nA, a:na})  # substitute values\n",
    "n𝜓1 = 𝜓1.subs({m:nm, h:nh, w:nw, A:nA, a:na}) \n",
    "n𝜓2 = 𝜓2.subs({m:nm, h:nh, w:nw, A:nA, a:na}) "
   ]
  },
  {
   "cell_type": "code",
   "execution_count": 9,
   "id": "05bc778c",
   "metadata": {},
   "outputs": [
    {
     "data": {
      "image/png": "[encoded data removed]",
      "text/plain": [
       "<Figure size 500x400 with 1 Axes>"
      ]
     },
     "metadata": {},
     "output_type": "display_data"
    }
   ],
   "source": [
    "# plot the first three states\n",
    "\n",
    "p1 = sym.plotting.plot( n𝜓0, (x,-5,5), show=False, label=\"$\\psi_0$\", legend = True, size=(5,4))\n",
    "p2 = sym.plotting.plot( n𝜓1, (x,-5,5), show=False, label=\"$\\psi_1$\", legend = True)\n",
    "p3 = sym.plotting.plot( n𝜓2, (x,-5,5), show=False, label=\"$\\psi_2$\", legend = True)\n",
    "p1.extend(p2)\n",
    "p1.extend(p3)\n",
    "p1.show()"
   ]
  },
  {
   "cell_type": "markdown",
   "id": "78640efa",
   "metadata": {},
   "source": [
    "#### Solution to (c)\n",
    "\n",
    "We need to verify that\n",
    "$$\n",
    "\\int_{-\\infty}^{+\\infty} \\psi_m(x)\\,\\psi_n(x)\\,dx = \\delta_{mn}\n",
    "$$\n",
    "for $n,m=0,1,2$."
   ]
  },
  {
   "cell_type": "code",
   "execution_count": 10,
   "id": "b40fbcdb-f494-4393-b1fb-de3aeb7c9094",
   "metadata": {},
   "outputs": [],
   "source": [
    "# braket <𝜓n|𝜓m> \n",
    "A_value = ((m*w)/(sym.pi*h))**(sym.Rational(1,4))\n",
    "a_value = (2*h*m*w)**(-sym.Rational(1,2))\n",
    "def braket(𝜓n, 𝜓m):\n",
    "    return sym.integrate(𝜓n.conjugate()*𝜓m, (x, -sym.oo, sym.oo)).subs({A:A_value, a:a_value})"
   ]
  },
  {
   "cell_type": "code",
   "execution_count": 11,
   "id": "305207a1-e402-4751-bd31-166508d1f7de",
   "metadata": {},
   "outputs": [
    {
     "data": {
      "image/png": "[encoded data removed]",
      "text/latex": [
       "$\\displaystyle \\left[\\begin{matrix}1 & 0 & 0\\\\0 & 1 & 0\\\\0 & 0 & 1\\end{matrix}\\right]$"
      ],
      "text/plain": [
       "⎡1  0  0⎤\n",
       "⎢       ⎥\n",
       "⎢0  1  0⎥\n",
       "⎢       ⎥\n",
       "⎣0  0  1⎦"
      ]
     },
     "execution_count": 11,
     "metadata": {},
     "output_type": "execute_result"
    }
   ],
   "source": [
    "# list of states\n",
    "states = [𝜓0,𝜓1,𝜓2]\n",
    "\n",
    "results = sym.zeros(3,3)\n",
    "for i in range(3):\n",
    "    for j in range(3):\n",
    "        results[i,j] = braket(states[i],states[j])\n",
    "\n",
    "# show results \n",
    "results    "
   ]
  },
  {
   "cell_type": "markdown",
   "id": "ee48b70f-2494-4495-988e-bd302955c35b",
   "metadata": {},
   "source": [
    "### Extra"
   ]
  },
  {
   "cell_type": "markdown",
   "id": "4776fb00-9b8e-4dd9-91b8-ab4fa90b8442",
   "metadata": {},
   "source": [
    "We will define the number operator $\\hat N = \\hat a_+ \\hat a_-$ and verify that $\\hat N \\psi_n = n \\psi_n$ for a chosen value of $n$."
   ]
  },
  {
   "cell_type": "code",
   "execution_count": 12,
   "id": "daba76ff-0296-4a8b-bcd8-d9b6391510e0",
   "metadata": {},
   "outputs": [],
   "source": [
    "# ladder-down operator\n",
    "\n",
    "def a_minus(𝜓):\n",
    "    return sym.simplify( a*(h*sym.diff(𝜓,x,1) + m*w*x*𝜓) )\n",
    "\n",
    "# number operator\n",
    "\n",
    "def N(𝜓):\n",
    "    return sym.simplify( a_plus(a_minus(𝜓)) )"
   ]
  },
  {
   "cell_type": "code",
   "execution_count": 13,
   "id": "8abbd5b7-2d25-4107-83f4-738aec9dbbe9",
   "metadata": {},
   "outputs": [
    {
     "data": {
      "image/png": "[encoded data removed]",
      "text/latex": [
       "$\\displaystyle \\left[ \\frac{2 \\sqrt{6} A a^{3} m^{2} w^{2} x \\left(- 3 \\hbar + 2 m w x^{2}\\right) e^{- \\frac{m w x^{2}}{2 \\hbar}}}{3}, \\  \\frac{\\sqrt{6} A a^{4} m^{2} w^{2} \\cdot \\left(3 \\hbar^{2} - 12 \\hbar m w x^{2} + 4 m^{2} w^{2} x^{4}\\right) e^{- \\frac{m w x^{2}}{2 \\hbar}}}{3}, \\  \\frac{2 \\sqrt{30} A a^{5} m^{3} w^{3} x \\left(15 \\hbar^{2} - 20 \\hbar m w x^{2} + 4 m^{2} w^{2} x^{4}\\right) e^{- \\frac{m w x^{2}}{2 \\hbar}}}{15}\\right]$"
      ],
      "text/plain": [
       "⎡                                           2                                 \n",
       "⎢                                     -m⋅w⋅x                                  \n",
       "⎢                                     ────────                                \n",
       "⎢        3  2  2   ⎛              2⎞    2⋅h̅          4  2  2 ⎛   2           \n",
       "⎢2⋅√6⋅A⋅a ⋅m ⋅w ⋅x⋅⎝-3⋅h̅ + 2⋅m⋅w⋅x ⎠⋅ℯ          √6⋅A⋅a ⋅m ⋅w ⋅⎝3⋅h̅  - 12⋅h̅⋅\n",
       "⎢─────────────────────────────────────────────, ──────────────────────────────\n",
       "⎣                      3                                                    3 \n",
       "\n",
       "                         2                                                    \n",
       "                   -m⋅w⋅x                                                     \n",
       "                   ────────                                                   \n",
       "  2      2  2  4⎞    2⋅h̅             5  3  3   ⎛    2             2      2  2\n",
       "m⋅w⋅x  + 4⋅m ⋅w ⋅x ⎠⋅ℯ          2⋅√30⋅A⋅a ⋅m ⋅w ⋅x⋅⎝15⋅h̅  - 20⋅h̅⋅m⋅w⋅x  + 4⋅\n",
       "───────────────────────────, ─────────────────────────────────────────────────\n",
       "                                                            15                \n",
       "\n",
       "            2 ⎤\n",
       "      -m⋅w⋅x  ⎥\n",
       "      ────────⎥\n",
       "  4⎞    2⋅h̅  ⎥\n",
       "m ⋅w ⋅x ⎠⋅ℯ        ⎥\n",
       "──────────────⎥\n",
       "              ⎦"
      ]
     },
     "execution_count": 13,
     "metadata": {},
     "output_type": "execute_result"
    }
   ],
   "source": [
    "# excited states\n",
    "\n",
    "𝜓3 = 1/sym.sqrt(3) * a_plus(𝜓2)\n",
    "𝜓4 = 1/sym.sqrt(4) * a_plus(𝜓3)\n",
    "𝜓5 = 1/sym.sqrt(5) * a_plus(𝜓4)\n",
    "[𝜓3,𝜓4,𝜓5]"
   ]
  },
  {
   "cell_type": "markdown",
   "id": "7310ffb2-d683-4d18-9815-da7101f7fcc1",
   "metadata": {},
   "source": [
    "The relation $\\hat N \\psi_n = n \\psi_n$ is equivalent to $\\langle \\psi_n | \\hat N | \\psi_n \\rangle = n$. <br>\n",
    "When $n=5$, we must get $\\langle \\psi_5 | \\hat N | \\psi_5 \\rangle = 5$."
   ]
  },
  {
   "cell_type": "code",
   "execution_count": 14,
   "id": "aaee4be1-aa67-4805-b6b5-c2a99f13a29d",
   "metadata": {},
   "outputs": [
    {
     "data": {
      "image/png": "[encoded data removed]",
      "text/latex": [
       "$\\displaystyle 5$"
      ],
      "text/plain": [
       "5"
      ]
     },
     "execution_count": 14,
     "metadata": {},
     "output_type": "execute_result"
    }
   ],
   "source": [
    "braket(𝜓5,N(𝜓5))"
   ]
  },
  {
   "cell_type": "markdown",
   "id": "972a86e9",
   "metadata": {},
   "source": [
    "---"
   ]
  }
 ],
 "metadata": {
  "kernelspec": {
   "display_name": "Python 3 (ipykernel)",
   "language": "python",
   "name": "python3"
  },
  "language_info": {
   "codemirror_mode": {
    "name": "ipython",
    "version": 3
   },
   "file_extension": ".py",
   "mimetype": "text/x-python",
   "name": "python",
   "nbconvert_exporter": "python",
   "pygments_lexer": "ipython3",
   "version": "3.11.7"
  },
  "latex_envs": {
   "LaTeX_envs_menu_present": true,
   "autoclose": false,
   "autocomplete": true,
   "bibliofile": "biblio.bib",
   "cite_by": "apalike",
   "current_citInitial": 1,
   "eqLabelWithNumbers": true,
   "eqNumInitial": 1,
   "hotkeys": {
    "equation": "Ctrl-E",
    "itemize": "Ctrl-I"
   },
   "labels_anchors": false,
   "latex_user_defs": false,
   "report_style_numbering": false,
   "user_envs_cfg": false
  }
 },
 "nbformat": 4,
 "nbformat_minor": 5
}
