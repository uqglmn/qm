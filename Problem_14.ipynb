{
 "cells": [
  {
   "cell_type": "markdown",
   "id": "998bb1ea",
   "metadata": {},
   "source": [
    "## Unit 1 - The Wave Function"
   ]
  },
  {
   "cell_type": "markdown",
   "id": "ab840169",
   "metadata": {},
   "source": [
    "<a href=\"https://colab.research.google.com/github/uqglmn/qm/blob/main/Problem_14.ipynb\" target=\"_parent\"><img src=\"https://colab.research.google.com/assets/colab-badge.svg\" alt=\"Open In Colab\"/></a>"
   ]
  },
  {
   "cell_type": "markdown",
   "id": "910f3c72",
   "metadata": {},
   "source": [
    "### Problem 1.4\n",
    "\n",
    "At time $t = 0$ a particle is represented by the wave function\n",
    "$$\n",
    "\\Psi(x,0) = \\begin{cases} \n",
    "A\\,x/a & 0 \\le x \\le a \\\\\n",
    "A\\,(b-x)/(b-a) & a \\le x \\le b \\\\\n",
    "0 & \\text{otherwise} \\\\\n",
    "\\end{cases}\n",
    "$$\n",
    "where $A$, $a$, and $b$ are positive real constants.\n",
    "\n",
    "(a) Normalize $\\Psi$ (that is, find $A$, in terms of $a$ and $b$).\n",
    "\n",
    "(b) Sketch $\\Psi(x,0)$, as a function of $x$.\n",
    "\n",
    "(c) Where is the particle most likely to be found, at $t = 0$?\n",
    "\n",
    "(d) What is the probability of finding the particle to the left of $a$? Check your result in\n",
    "the limiting cases $b = a$ and $b = 2a$.\n",
    "\n",
    "(e) What is the expectation value of $x$?"
   ]
  },
  {
   "cell_type": "markdown",
   "id": "b8db3a7e",
   "metadata": {},
   "source": [
    "### Solution"
   ]
  },
  {
   "cell_type": "markdown",
   "id": "d0486a2d",
   "metadata": {},
   "source": [
    "#### Load SymPy and variables"
   ]
  },
  {
   "cell_type": "code",
   "execution_count": 1,
   "id": "cc6e956b",
   "metadata": {},
   "outputs": [],
   "source": [
    "import sympy as sym"
   ]
  },
  {
   "cell_type": "code",
   "execution_count": 2,
   "id": "0c47584f",
   "metadata": {},
   "outputs": [],
   "source": [
    "a, b, A = sym.symbols(\"a b A\", positive=True, real=True)\n",
    "x = sym.symbols(\"x\", real=True)"
   ]
  },
  {
   "cell_type": "markdown",
   "id": "6208e7df",
   "metadata": {},
   "source": [
    "#### Solution to (a)"
   ]
  },
  {
   "cell_type": "markdown",
   "id": "15f8d10f",
   "metadata": {},
   "source": [
    "We must have\n",
    "$$\n",
    "\\int_{-\\infty}^{+\\infty}|\\Psi(x,0)|^2 dx = \\int_{0}^{a}|A\\,x/a|^2 dx + \\int_{a}^{b}|A\\,(b-x)/(b-a)|^2 dx = 1\n",
    "$$\n",
    "The first integral is:"
   ]
  },
  {
   "cell_type": "code",
   "execution_count": 3,
   "id": "2899acc6",
   "metadata": {},
   "outputs": [
    {
     "data": {
      "text/latex": [
       "$\\displaystyle \\frac{A^{2} a}{3}$"
      ],
      "text/plain": [
       "A**2*a/3"
      ]
     },
     "execution_count": 3,
     "metadata": {},
     "output_type": "execute_result"
    }
   ],
   "source": [
    "int1 = sym.integrate((A*x/a)**2, (x,0,a))\n",
    "int1"
   ]
  },
  {
   "cell_type": "markdown",
   "id": "f1bd506b",
   "metadata": {},
   "source": [
    "The second integral is:"
   ]
  },
  {
   "cell_type": "code",
   "execution_count": 4,
   "id": "57556098",
   "metadata": {},
   "outputs": [
    {
     "data": {
      "text/latex": [
       "$\\displaystyle \\frac{A^{2} \\left(- a + b\\right)}{3}$"
      ],
      "text/plain": [
       "A**2*(-a + b)/3"
      ]
     },
     "execution_count": 4,
     "metadata": {},
     "output_type": "execute_result"
    }
   ],
   "source": [
    "int2 = sym.simplify(sym.integrate((A*(b-x)/(b-a))**2, (x,a,b)))\n",
    "int2"
   ]
  },
  {
   "cell_type": "markdown",
   "id": "3fcf838c",
   "metadata": {},
   "source": [
    "This gives\n",
    "$$\n",
    "\\frac{A^2a}{3} + \\frac{A^2(b-a)}{3} = 1 \n",
    "\\quad \\Longrightarrow\\quad A^2 = \\frac{3}{b} \n",
    "\\quad \\Longrightarrow\\quad A = \\sqrt{\\frac{3}{b}}\n",
    "$$\n",
    "Let's repeat this with SymPy:"
   ]
  },
  {
   "cell_type": "code",
   "execution_count": 5,
   "id": "ae461228",
   "metadata": {},
   "outputs": [
    {
     "data": {
      "text/plain": [
       "[sqrt(3)/sqrt(b)]"
      ]
     },
     "execution_count": 5,
     "metadata": {},
     "output_type": "execute_result"
    }
   ],
   "source": [
    "sym.solve(int1 + int2 - 1, A)"
   ]
  },
  {
   "cell_type": "markdown",
   "id": "83ceda22",
   "metadata": {},
   "source": [
    "Answer: $A = \\sqrt{3/b}$ since $A$ must be a positive real constant."
   ]
  },
  {
   "cell_type": "markdown",
   "id": "b88658f6",
   "metadata": {},
   "source": [
    "#### Solution to (b)\n"
   ]
  },
  {
   "cell_type": "markdown",
   "id": "080e7fdd",
   "metadata": {},
   "source": [
    "Choose $a=1$ and $b=3$. Then:"
   ]
  },
  {
   "cell_type": "code",
   "execution_count": 6,
   "id": "2d120ec5",
   "metadata": {},
   "outputs": [
    {
     "data": {
      "image/png": "[encoded data removed]",
      "text/plain": [
       "<Figure size 400x300 with 1 Axes>"
      ]
     },
     "metadata": {},
     "output_type": "display_data"
    }
   ],
   "source": [
    "na, nb = 1, 3\n",
    "p1 = sym.plotting.plot(3/nb*x/na, (x,0,na), show=False, size=(4,3))\n",
    "p2 = sym.plotting.plot(3/nb*(nb-x)/(nb-na), (x,na,nb), show=False)\n",
    "p1.extend(p2)\n",
    "p1.show()"
   ]
  },
  {
   "cell_type": "markdown",
   "id": "85aaabab",
   "metadata": {},
   "source": [
    "#### Solution to (c)\n"
   ]
  },
  {
   "cell_type": "markdown",
   "id": "44ad2bd7",
   "metadata": {},
   "source": [
    "The $\\Psi(x,0)$ has a maximum at $x=a$, thus it is most likely to observe the particle at $x=a$."
   ]
  },
  {
   "cell_type": "markdown",
   "id": "55ce954e",
   "metadata": {},
   "source": [
    "#### Solution to (d)\n"
   ]
  },
  {
   "cell_type": "markdown",
   "id": "b07a5a4b",
   "metadata": {},
   "source": [
    "The probability of observing the particle to the left of $a$ is:\n",
    "$$\n",
    "P_{x\\le a} = \\int_{0}^{a}|A\\,x/a|^2 dx = \\frac{A^2a}{3} = \\frac{a}{b}\n",
    "$$\n",
    "\n",
    "When $b=a$ the probability is $1$. When $b=2a$ the probability is $1/2$."
   ]
  },
  {
   "cell_type": "markdown",
   "id": "8b2a9ade",
   "metadata": {},
   "source": [
    "#### Solution to (e)\n"
   ]
  },
  {
   "cell_type": "markdown",
   "id": "54fb5bc4",
   "metadata": {},
   "source": [
    "The expectation value of $x$ is:\n",
    "$$\n",
    "\\langle x \\rangle = \\int_{-\\infty}^{+\\infty} \\Psi^\\dagger(x,0) \\,x\\, \\Psi(x,0)\\, dx = A^2\\int_{0}^{a}x\\,(x/a)^2 dx + A^2\\int_{a}^{b}x\\,((b-x)/(b-a))^2 dx \n",
    "$$\n",
    "where $A^2 = 3/b$. \n",
    "\n",
    "The first integral is:"
   ]
  },
  {
   "cell_type": "code",
   "execution_count": 7,
   "id": "60d381e9",
   "metadata": {},
   "outputs": [
    {
     "data": {
      "text/latex": [
       "$\\displaystyle \\frac{3 a^{2}}{4 b}$"
      ],
      "text/plain": [
       "3*a**2/(4*b)"
      ]
     },
     "execution_count": 7,
     "metadata": {},
     "output_type": "execute_result"
    }
   ],
   "source": [
    "int1 = 3/b*sym.integrate(x*(x/a)**2, (x,0,a))\n",
    "int1"
   ]
  },
  {
   "cell_type": "markdown",
   "id": "beb1d238",
   "metadata": {},
   "source": [
    "The second integral is:"
   ]
  },
  {
   "cell_type": "code",
   "execution_count": 8,
   "id": "2cc88d2d",
   "metadata": {},
   "outputs": [
    {
     "data": {
      "text/latex": [
       "$\\displaystyle - \\frac{3 a^{2}}{4 b} + \\frac{a}{2} + \\frac{b}{4}$"
      ],
      "text/plain": [
       "-3*a**2/(4*b) + a/2 + b/4"
      ]
     },
     "execution_count": 8,
     "metadata": {},
     "output_type": "execute_result"
    }
   ],
   "source": [
    "int2 = sym.simplify( 3/b*sym.simplify(sym.integrate(x*((b-x)/(b-a))**2, (x,a,b))) )\n",
    "int2"
   ]
  },
  {
   "cell_type": "markdown",
   "id": "5f776392",
   "metadata": {},
   "source": [
    "Thus the expectation value $\\langle x \\rangle$ is:"
   ]
  },
  {
   "cell_type": "code",
   "execution_count": 9,
   "id": "8a6b602c",
   "metadata": {},
   "outputs": [
    {
     "data": {
      "text/latex": [
       "$\\displaystyle \\frac{a}{2} + \\frac{b}{4}$"
      ],
      "text/plain": [
       "a/2 + b/4"
      ]
     },
     "execution_count": 9,
     "metadata": {},
     "output_type": "execute_result"
    }
   ],
   "source": [
    "sym.simplify(int1+int2)"
   ]
  },
  {
   "cell_type": "markdown",
   "id": "2f08d4b0",
   "metadata": {},
   "source": [
    "---"
   ]
  }
 ],
 "metadata": {
  "kernelspec": {
   "display_name": "Python 3 (ipykernel)",
   "language": "python",
   "name": "python3"
  },
  "language_info": {
   "codemirror_mode": {
    "name": "ipython",
    "version": 3
   },
   "file_extension": ".py",
   "mimetype": "text/x-python",
   "name": "python",
   "nbconvert_exporter": "python",
   "pygments_lexer": "ipython3",
   "version": "3.9.13"
  }
 },
 "nbformat": 4,
 "nbformat_minor": 5
}
